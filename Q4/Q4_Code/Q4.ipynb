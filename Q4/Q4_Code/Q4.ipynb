{
 "cells": [
  {
   "cell_type": "markdown",
   "source": [
    "# Q4 - Recommendation and Business Analysis"
   ],
   "metadata": {
    "collapsed": false
   },
   "id": "4446bc0b0fe36a77"
  },
  {
   "cell_type": "markdown",
   "source": [
    "## 1. Import Libraries"
   ],
   "metadata": {
    "collapsed": false
   },
   "id": "6f3bd35dd265d3a"
  },
  {
   "cell_type": "code",
   "execution_count": null,
   "id": "initial_id",
   "metadata": {
    "collapsed": true
   },
   "outputs": [],
   "source": [
    "import pandas as pd\n",
    "import matplotlib.pyplot as plt\n",
    "import seaborn as sns"
   ]
  },
  {
   "cell_type": "markdown",
   "source": [
    "## 2. Load Data"
   ],
   "metadata": {
    "collapsed": false
   },
   "id": "874329b59240a038"
  },
  {
   "cell_type": "code",
   "execution_count": null,
   "outputs": [],
   "source": [
    "retail_df = pd.read_csv('../Data_Q4/retail.csv')"
   ],
   "metadata": {
    "collapsed": false
   },
   "id": "a51f5c9189e7e6b9"
  },
  {
   "cell_type": "code",
   "execution_count": null,
   "outputs": [],
   "source": [
    "retail_df.head()"
   ],
   "metadata": {
    "collapsed": false
   },
   "id": "4d2cace19d10fe75"
  },
  {
   "cell_type": "code",
   "execution_count": null,
   "outputs": [],
   "source": [
    "retail_df.shape"
   ],
   "metadata": {
    "collapsed": false
   },
   "id": "edf58a526b393ac3"
  },
  {
   "cell_type": "markdown",
   "source": [
    "## 3. Data Preprocessing"
   ],
   "metadata": {
    "collapsed": false
   },
   "id": "8c65883fc834ea58"
  },
  {
   "cell_type": "code",
   "execution_count": null,
   "outputs": [],
   "source": [
    "# Check Missing values\n",
    "retail_df.isnull().sum()"
   ],
   "metadata": {
    "collapsed": false
   },
   "id": "a6fecab2a4e5bc29"
  },
  {
   "cell_type": "code",
   "execution_count": null,
   "outputs": [],
   "source": [
    "# Drop missing values\n",
    "retail_df.dropna(inplace=True)"
   ],
   "metadata": {
    "collapsed": false
   },
   "id": "3f6187e5c886471b"
  },
  {
   "cell_type": "code",
   "execution_count": null,
   "outputs": [],
   "source": [
    "# Check missing values\n",
    "retail_df.isnull().sum()"
   ],
   "metadata": {
    "collapsed": false
   },
   "id": "62f89dc05811fa5e"
  },
  {
   "cell_type": "code",
   "execution_count": null,
   "outputs": [],
   "source": [
    "retail_df.shape"
   ],
   "metadata": {
    "collapsed": false
   },
   "id": "2139b95642233ea3"
  },
  {
   "cell_type": "code",
   "execution_count": null,
   "outputs": [],
   "source": [
    "# Drop duplicates\n",
    "retail_df.drop_duplicates(inplace=True)"
   ],
   "metadata": {
    "collapsed": false
   },
   "id": "7224d6df913b6de"
  },
  {
   "cell_type": "code",
   "execution_count": null,
   "outputs": [],
   "source": [
    "retail_df.shape"
   ],
   "metadata": {
    "collapsed": false
   },
   "id": "533564195c3421d3"
  },
  {
   "cell_type": "code",
   "execution_count": null,
   "outputs": [],
   "source": [
    "retail_df['Date'] = pd.to_datetime(retail_df['Date'])"
   ],
   "metadata": {
    "collapsed": false
   },
   "id": "a38329a2ee8b6c2b"
  },
  {
   "cell_type": "code",
   "execution_count": null,
   "outputs": [],
   "source": [
    "# Drop Negative Values\n",
    "retail_df = retail_df[retail_df['Quantity'] > 0]\n",
    "retail_df = retail_df[retail_df['Price'] > 0]"
   ],
   "metadata": {
    "collapsed": false
   },
   "id": "9a0bdb588811d677"
  },
  {
   "cell_type": "code",
   "execution_count": null,
   "outputs": [],
   "source": [
    "Q1 = retail_df['Quantity'].quantile(0.01)\n",
    "Q3 = retail_df['Quantity'].quantile(0.99)\n",
    "IQR = Q3 - Q1\n",
    "\n",
    "# 定义异常值的范围\n",
    "lower_bound = Q1 - 1.5 * IQR\n",
    "upper_bound = Q3 + 1.5 * IQR\n",
    "\n",
    "# 过滤掉异常值\n",
    "retail_df = retail_df[(retail_df['Quantity'] >= lower_bound) & (retail_df['Quantity'] <= upper_bound)]\n",
    "\n",
    "# 对'Price'字段重复上述步骤\n",
    "Q1_price = retail_df['Price'].quantile(0.01)\n",
    "Q3_price = retail_df['Price'].quantile(0.99)\n",
    "IQR_price = Q3_price - Q1_price\n",
    "\n",
    "lower_bound_price = Q1_price - 1.5 * IQR_price\n",
    "upper_bound_price = Q3_price + 1.5 * IQR_price\n",
    "\n",
    "retail_df = retail_df[(retail_df['Price'] >= lower_bound_price) & (retail_df['Price'] <= upper_bound_price)]"
   ],
   "metadata": {
    "collapsed": false
   },
   "id": "291aad3fe5bd8d5a"
  },
  {
   "cell_type": "code",
   "execution_count": null,
   "outputs": [],
   "source": [
    "def plot_with_outliers(dataframe, variable):\n",
    "    quartile1 = dataframe[variable].quantile(0.01)\n",
    "    quartile3 = dataframe[variable].quantile(0.99)\n",
    "\n",
    "    # 绘制箱形图\n",
    "    plt.figure(figsize=(10, 6))\n",
    "    sns.boxplot(x=dataframe[variable])\n",
    "    plt.title(f'Boxplot of {variable} with Outliers')\n",
    "    plt.show()\n",
    "\n",
    "# 对'Quantity'和'Price'字段分别进行绘制\n",
    "plot_with_outliers(retail_df, 'Quantity')\n",
    "plot_with_outliers(retail_df, 'Price')"
   ],
   "metadata": {
    "collapsed": false
   },
   "id": "4d3aa99febdaf257"
  },
  {
   "cell_type": "markdown",
   "source": [
    "## 4. Visualization"
   ],
   "metadata": {
    "collapsed": false,
    "ExecuteTime": {
     "end_time": "2023-12-16T19:40:22.423523Z",
     "start_time": "2023-12-16T19:40:22.319265Z"
    }
   },
   "id": "1bdd5fb5576a06df"
  },
  {
   "cell_type": "markdown",
   "source": [
    "### 1. Top 10 Products by Quantity Sold"
   ],
   "metadata": {
    "collapsed": false,
    "ExecuteTime": {
     "end_time": "2023-12-16T19:42:34.390793Z",
     "start_time": "2023-12-16T19:42:34.224580Z"
    }
   },
   "id": "d21d9fd053e87f6"
  },
  {
   "cell_type": "code",
   "execution_count": null,
   "outputs": [],
   "source": [
    "top_products = retail_df.groupby('Description')['Quantity'].sum().sort_values(ascending=False).head(10)\n",
    "plt.figure(figsize=(10,6))\n",
    "sns.barplot(x=top_products.index, y=top_products.values)\n",
    "plt.title('Top 10 Products by Quantity Sold')\n",
    "plt.xticks(rotation=45, ha='right')\n",
    "plt.show()"
   ],
   "metadata": {
    "collapsed": false
   },
   "id": "dfb5c122c199abf5"
  },
  {
   "cell_type": "code",
   "execution_count": null,
   "outputs": [],
   "source": [
    "retail_df['Month'] = retail_df['Date'].dt.to_period('M')\n",
    "transactions_per_month = retail_df.groupby('Month')['Transaction_id'].nunique()\n",
    "plt.figure(figsize=(12,6))\n",
    "transactions_per_month.plot(kind='line')\n",
    "plt.title('Number of Transactions Over Time')\n",
    "plt.show()"
   ],
   "metadata": {
    "collapsed": false
   },
   "id": "b26f887d5efb0d02"
  },
  {
   "cell_type": "markdown",
   "source": [
    "1. 每年每个产品的总销量"
   ],
   "metadata": {
    "collapsed": false
   },
   "id": "a3c89c1d46cb36fd"
  },
  {
   "cell_type": "code",
   "execution_count": null,
   "outputs": [],
   "source": [
    "# 选择销量最高的前N个产品\n",
    "top_products = retail_df.groupby('Description')['Quantity'].sum().sort_values(ascending=False).head(10).index\n",
    "\n",
    "# 过滤数据，只保留这些产品\n",
    "filtered_df = retail_df[retail_df['Description'].isin(top_products)]\n",
    "\n",
    "# 重新计算销量\n",
    "sales_volume_per_year = filtered_df.groupby(['Year', 'Description'])['Quantity'].sum().reset_index()\n",
    "\n",
    "# 绘制图表\n",
    "plt.figure(figsize=(15, 6))\n",
    "sns.barplot(x='Year', y='Quantity', hue='Description', data=sales_volume_per_year)\n",
    "plt.title('Total Sales Volume per Product per Year for Top 10 Products')\n",
    "plt.legend(bbox_to_anchor=(1.05, 1), loc=2, borderaxespad=0.)\n",
    "plt.show()\n"
   ],
   "metadata": {
    "collapsed": false
   },
   "id": "674d45d1c8920ebf"
  },
  {
   "cell_type": "markdown",
   "source": [
    "2. 客户的平均消费及其分布"
   ],
   "metadata": {
    "collapsed": false
   },
   "id": "62fe072076696a1b"
  },
  {
   "cell_type": "code",
   "execution_count": null,
   "outputs": [],
   "source": [
    "# 计算每位客户的平均消费\n",
    "average_spending = retail_df.groupby('Customer ID')['Price'].mean().reset_index()\n",
    "\n",
    "# 绘制分布图\n",
    "plt.figure(figsize=(15, 6))\n",
    "sns.distplot(average_spending['Price'])\n",
    "plt.title('Average Spending per Customer')\n",
    "plt.show()\n"
   ],
   "metadata": {
    "collapsed": false
   },
   "id": "49f79d02b91258c5"
  },
  {
   "cell_type": "markdown",
   "source": [
    "3. 最受欢迎的产品"
   ],
   "metadata": {
    "collapsed": false
   },
   "id": "f8e83493ac45cccc"
  },
  {
   "cell_type": "markdown",
   "source": [
    "4. 不同时间段的销售趋势"
   ],
   "metadata": {
    "collapsed": false
   },
   "id": "b5b9b54f9d6c4fe6"
  },
  {
   "cell_type": "code",
   "execution_count": null,
   "outputs": [],
   "source": [
    "# 添加小时列\n",
    "retail_df['Hour'] = retail_df['Date'].dt.hour\n",
    "\n",
    "# 计算每小时的销售量\n",
    "sales_per_hour = retail_df.groupby('Hour')['Quantity'].sum().reset_index()\n",
    "\n",
    "# 绘制图表\n",
    "plt.figure(figsize=(15, 6))\n",
    "sns.lineplot(x='Hour', y='Quantity', data=sales_per_hour)\n",
    "plt.title('Sales Trend by Hour')\n",
    "plt.show()\n"
   ],
   "metadata": {
    "collapsed": false
   },
   "id": "69e94484db061725"
  },
  {
   "cell_type": "markdown",
   "source": [
    "5. 不同客户群体的购买偏好"
   ],
   "metadata": {
    "collapsed": false
   },
   "id": "fc397d484f7f073f"
  },
  {
   "cell_type": "code",
   "execution_count": null,
   "outputs": [],
   "source": [
    "# 你可以根据一些标准（如客户的总消费金额）来定义客户群体\n",
    "# 例如，将消费在某个范围内的客户划分为一个群体\n",
    "\n",
    "# 定义客户群体\n",
    "customer_groups = retail_df.groupby('Customer ID')['Price'].sum()\n",
    "retail_df['Customer Group'] = pd.qcut(customer_groups, 4, labels=['Low', 'Medium', 'High', 'Very High'])\n",
    "\n",
    "# 分析每个群体的购买偏好\n",
    "preference_per_group = retail_df.groupby(['Customer Group', 'Description'])['Quantity'].sum().reset_index()\n",
    "\n",
    "# 绘制图表\n",
    "plt.figure(figsize=(15, 6))\n",
    "sns.barplot(x='Customer Group', y='Quantity', hue='Description', data=preference_per_group)\n",
    "plt.title('Purchase Preferences by Customer Group')\n",
    "plt.show()\n"
   ],
   "metadata": {
    "collapsed": false
   },
   "id": "220a525f8f65fba0"
  },
  {
   "cell_type": "markdown",
   "source": [
    "6. 每月销售趋势\n",
    "6. Sales Trend by Month"
   ],
   "metadata": {
    "collapsed": false
   },
   "id": "fbca7ae4bee53afb"
  },
  {
   "cell_type": "code",
   "execution_count": null,
   "outputs": [],
   "source": [
    "# 添加月份列\n",
    "retail_df['Month'] = retail_df['Date'].dt.month\n",
    "\n",
    "# 每月的销售总量\n",
    "sales_per_month = retail_df.groupby('Month')['Quantity'].sum().reset_index()\n",
    "\n",
    "# 绘制图表\n",
    "plt.figure(figsize=(15, 6))\n",
    "sns.lineplot(x='Month', y='Quantity', data=sales_per_month)\n",
    "plt.title('Sales Trend by Month')\n",
    "plt.show()\n"
   ],
   "metadata": {
    "collapsed": false
   },
   "id": "331da64b17234c90"
  },
  {
   "cell_type": "markdown",
   "source": [],
   "metadata": {
    "collapsed": false
   },
   "id": "c45134fd7326967c"
  },
  {
   "cell_type": "code",
   "execution_count": null,
   "outputs": [],
   "source": [],
   "metadata": {
    "collapsed": false
   },
   "id": "a2ea9a70d88082b0"
  },
  {
   "cell_type": "code",
   "execution_count": null,
   "outputs": [],
   "source": [],
   "metadata": {
    "collapsed": false
   },
   "id": "d39ba5fca55b1c33"
  },
  {
   "cell_type": "code",
   "execution_count": null,
   "outputs": [],
   "source": [
    "import pandas as pd\n",
    "from mlxtend.preprocessing import TransactionEncoder\n",
    "from mlxtend.frequent_patterns import apriori, association_rules\n",
    "\n",
    "# Step 1: Data Preprocessing\n",
    "# Assuming each row in your DataFrame is a transaction\n",
    "transactions = retail_df.groupby('Transaction_id')['Product_id'].apply(list)\n",
    "\n",
    "# Transforming the data into the right format\n",
    "te = TransactionEncoder()\n",
    "te_ary = te.fit(transactions).transform(transactions)\n",
    "df = pd.DataFrame(te_ary, columns=te.columns_)\n",
    "retail_df\n",
    "transactions\n",
    "# Step 2: Finding Frequent Itemsets\n",
    "frequent_itemsets = apriori(df, min_support=0.01, use_colnames=True)\n",
    "\n",
    "# Step 3: Generating Association Rules\n",
    "rules = association_rules(frequent_itemsets, metric=\"confidence\", min_threshold=0.1)\n",
    "\n",
    "# Step 4: Filtering Rules\n",
    "# Filter the DataFrame of rules to find the best ones\n",
    "rules = rules[(rules['lift'] >= 1) & (rules['confidence'] >= 0.5)]\n",
    "\n",
    "# Display top 10 rules\n",
    "\n",
    "rules"
   ],
   "metadata": {
    "collapsed": false
   },
   "id": "c521843714417725"
  }
 ],
 "metadata": {
  "kernelspec": {
   "display_name": "Python 3",
   "language": "python",
   "name": "python3"
  },
  "language_info": {
   "codemirror_mode": {
    "name": "ipython",
    "version": 2
   },
   "file_extension": ".py",
   "mimetype": "text/x-python",
   "name": "python",
   "nbconvert_exporter": "python",
   "pygments_lexer": "ipython2",
   "version": "2.7.6"
  }
 },
 "nbformat": 4,
 "nbformat_minor": 5
}

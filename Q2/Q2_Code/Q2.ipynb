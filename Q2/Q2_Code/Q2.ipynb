{
 "cells": [
  {
   "cell_type": "code",
   "execution_count": 5,
   "outputs": [],
   "source": [
    "import torch\n",
    "import torchvision.models as models\n",
    "import torchvision.transforms as transforms\n",
    "from torch.utils.data import DataLoader, Dataset\n",
    "import os\n",
    "from PIL import Image\n",
    "import torch.nn as nn\n",
    "import torch.optim as optim\n",
    "from tqdm import tqdm"
   ],
   "metadata": {
    "collapsed": false,
    "ExecuteTime": {
     "end_time": "2023-12-14T11:27:48.064422Z",
     "start_time": "2023-12-14T11:27:48.055968Z"
    }
   },
   "id": "fbcfb73bb4724abd"
  },
  {
   "cell_type": "markdown",
   "source": [
    "1. Data Loader"
   ],
   "metadata": {
    "collapsed": false
   },
   "id": "daa9081aafe48639"
  },
  {
   "cell_type": "code",
   "execution_count": 2,
   "id": "initial_id",
   "metadata": {
    "collapsed": true,
    "ExecuteTime": {
     "end_time": "2023-12-14T11:26:23.960906Z",
     "start_time": "2023-12-14T11:26:23.955478Z"
    }
   },
   "outputs": [],
   "source": [
    "class WeatherDataset(Dataset):\n",
    "    def __init__(self, folder_path):\n",
    "        self.labels = {'Sunny': 0, 'Snowy': 1, 'Cloudy': 2, 'Rainy': 3, 'Foggy': 4}\n",
    "        self.data = []\n",
    "        for file in os.listdir(folder_path):\n",
    "            label_name = file.split('.')[0]  # 假设文件名的格式是'Cloudy1.jpg'\n",
    "            for label in self.labels:\n",
    "                if label in label_name:\n",
    "                    self.data.append((os.path.join(folder_path, file), self.labels[label]))\n",
    "                    break\n",
    "\n",
    "        self.transform = transforms.Compose([\n",
    "            transforms.Resize((224, 224)),\n",
    "            transforms.ToTensor(),\n",
    "            transforms.Normalize(mean=[0.485, 0.456, 0.406], std=[0.229, 0.224, 0.225])\n",
    "        ])\n",
    "\n",
    "    def __len__(self):\n",
    "        return len(self.data)\n",
    "    \n",
    "    def one_hot_encode(self, label, num_classes=5):\n",
    "        return torch.eye(num_classes)[label]\n",
    "\n",
    "    def __getitem__(self, idx):\n",
    "        img_path, label = self.data[idx]\n",
    "        image = Image.open(img_path).convert('RGB')\n",
    "        image = self.transform(image)\n",
    "        label = self.one_hot_encode(label)  # 将标签转换为one-hot编码\n",
    "        return image, label\n",
    "\n",
    "\n",
    "dataset = WeatherDataset(folder_path='../Data_Q2/train_data')\n",
    "dataloader = DataLoader(dataset, batch_size=4, shuffle=True)"
   ]
  },
  {
   "cell_type": "code",
   "execution_count": null,
   "outputs": [
    {
     "name": "stderr",
     "output_type": "stream",
     "text": [
      "Epoch 1/50: 100%|██████████| 63/63 [00:45<00:00,  1.37batch/s, loss=0.568]\n",
      "Epoch 2/50: 100%|██████████| 63/63 [00:45<00:00,  1.39batch/s, loss=0.505]\n",
      "Epoch 3/50: 100%|██████████| 63/63 [00:45<00:00,  1.38batch/s, loss=0.499]\n",
      "Epoch 4/50:  65%|██████▌   | 41/63 [00:29<00:15,  1.39batch/s, loss=0.496]"
     ]
    }
   ],
   "source": [
    "model = models.vgg16()\n",
    "model.classifier[6] = nn.Linear(model.classifier[6].in_features, 5)  # 5个类别的输出\n",
    "\n",
    "criterion = nn.BCEWithLogitsLoss()\n",
    "optimizer = optim.SGD(model.parameters(), lr=0.001, momentum=0.9)\n",
    "\n",
    "for epoch in range(50):  # loop over the dataset multiple times\n",
    "    epoch_loss = 0.0\n",
    "    with tqdm(enumerate(dataloader, 0), total=len(dataloader), desc=f'Epoch {epoch+1}/{50}', unit='batch') as tepoch:\n",
    "        for i, data in tepoch:\n",
    "            inputs, labels = data\n",
    "            labels = labels.float()\n",
    "            optimizer.zero_grad()\n",
    "            outputs = model(inputs)\n",
    "            loss = criterion(outputs, labels)\n",
    "            loss.backward()\n",
    "            optimizer.step()\n",
    "\n",
    "            epoch_loss += loss.item()\n",
    "            tepoch.set_postfix(loss=epoch_loss/(i+1))\n"
   ],
   "metadata": {
    "collapsed": false,
    "is_executing": true,
    "ExecuteTime": {
     "start_time": "2023-12-14T11:27:52.622214Z"
    }
   },
   "id": "9a5f856ee0c22cde"
  },
  {
   "cell_type": "code",
   "execution_count": null,
   "outputs": [],
   "source": [
    "correct = 0\n",
    "total = 0\n",
    "with torch.no_grad():\n",
    "    for data in dataloader:\n",
    "        images, labels = data\n",
    "        labels = labels.float()\n",
    "        outputs = model(images)\n",
    "        predicted = outputs.sigmoid() > 0.5  # 应用sigmoid并将输出转换为二进制预测\n",
    "        total += labels.numel()\n",
    "        correct += (predicted == labels).sum().item()\n",
    "\n",
    "accuracy = 100 * correct / total\n",
    "print(f'Accuracy of the network on the 250 images: {accuracy:.2f} %')\n"
   ],
   "metadata": {
    "collapsed": false,
    "is_executing": true
   },
   "id": "b2ea6e92730c19d6"
  },
  {
   "cell_type": "code",
   "execution_count": null,
   "outputs": [],
   "source": [],
   "metadata": {
    "collapsed": false
   },
   "id": "94c512e04a21b160"
  }
 ],
 "metadata": {
  "kernelspec": {
   "display_name": "Python 3",
   "language": "python",
   "name": "python3"
  },
  "language_info": {
   "codemirror_mode": {
    "name": "ipython",
    "version": 2
   },
   "file_extension": ".py",
   "mimetype": "text/x-python",
   "name": "python",
   "nbconvert_exporter": "python",
   "pygments_lexer": "ipython2",
   "version": "2.7.6"
  }
 },
 "nbformat": 4,
 "nbformat_minor": 5
}

{
 "cells": [
  {
   "cell_type": "markdown",
   "source": [
    "# Q2 - Weather Recognition"
   ],
   "metadata": {
    "collapsed": false
   },
   "id": "d07f33cdbc03fbe5"
  },
  {
   "cell_type": "markdown",
   "source": [
    "## 1. Import Libraries "
   ],
   "metadata": {
    "collapsed": false
   },
   "id": "9200cca061a6289d"
  },
  {
   "cell_type": "code",
   "execution_count": 26,
   "outputs": [],
   "source": [
    "import tensorflow as tf\n",
    "from tensorflow.keras.preprocessing.image import ImageDataGenerator\n",
    "import os\n",
    "from tensorflow.keras.layers import Input, Conv2D, MaxPooling2D, Flatten, Dense, Dropout\n",
    "from tensorflow.keras.models import Model\n",
    "from tensorflow.keras.optimizers import Adam\n",
    "import shutil"
   ],
   "metadata": {
    "collapsed": false,
    "ExecuteTime": {
     "end_time": "2023-12-14T18:10:45.906721Z",
     "start_time": "2023-12-14T18:10:45.901067Z"
    }
   },
   "id": "2c06933b3f42f287"
  },
  {
   "cell_type": "markdown",
   "source": [
    "## 2. Data Preparation"
   ],
   "metadata": {
    "collapsed": false
   },
   "id": "af74a5bd201aea74"
  },
  {
   "cell_type": "code",
   "execution_count": 27,
   "outputs": [],
   "source": [
    "# Data directory\n",
    "data_dir = '../Data_Q2/train_data'\n",
    "\n",
    "# List of folder names corresponding to different weather conditions\n",
    "folders = ['Cloudy', 'Foggy', 'Rainy', 'Snowy', 'Sunny']\n",
    "\n",
    "# Create directories for each weather condition if they don't exist\n",
    "for folder_name in folders:\n",
    "    folder_path = os.path.join(data_dir, folder_name)\n",
    "    if not os.path.exists(folder_path):\n",
    "        os.makedirs(folder_path)\n",
    "\n",
    "# Move files to corresponding weather condition folders\n",
    "for filename in os.listdir(data_dir):\n",
    "    # Check if the item in the data directory is a file\n",
    "    if os.path.isfile(os.path.join(data_dir, filename)):  \n",
    "        # Loop through each folder name to find a matching condition in the filename\n",
    "        for folder_name in folders:\n",
    "            # If the folder name is part of the filename\n",
    "            if folder_name in filename:\n",
    "                # Define the source and destination paths for the file\n",
    "                source_path = os.path.join(data_dir, filename)\n",
    "                destination_path = os.path.join(data_dir, folder_name, filename)\n",
    "                # Move the file from the source to the destination path\n",
    "                shutil.move(source_path, destination_path)\n"
   ],
   "metadata": {
    "collapsed": false,
    "ExecuteTime": {
     "end_time": "2023-12-14T18:10:56.500567Z",
     "start_time": "2023-12-14T18:10:56.492519Z"
    }
   },
   "id": "9c60c11fa5e9e43a"
  },
  {
   "cell_type": "markdown",
   "source": [
    "## 3. Data Loading"
   ],
   "metadata": {
    "collapsed": false
   },
   "id": "86171a3f10439158"
  },
  {
   "cell_type": "code",
   "execution_count": 28,
   "outputs": [
    {
     "name": "stdout",
     "output_type": "stream",
     "text": [
      "Found 250 images belonging to 5 classes.\n"
     ]
    }
   ],
   "source": [
    "# Image size and batch size settings\n",
    "image_size = (224, 224)\n",
    "batch_size = 32\n",
    "\n",
    "# Initialize ImageDataGenerator with rescaling\n",
    "datagen = ImageDataGenerator(rescale=1./255)\n",
    "\n",
    "# Load images from directory\n",
    "train_generator = datagen.flow_from_directory(\n",
    "    data_dir,\n",
    "    target_size=image_size,\n",
    "    batch_size=batch_size,\n",
    "    class_mode='categorical')\n"
   ],
   "metadata": {
    "collapsed": false,
    "ExecuteTime": {
     "end_time": "2023-12-14T18:10:57.878428Z",
     "start_time": "2023-12-14T18:10:57.862887Z"
    }
   },
   "id": "5f7829af9231a362"
  },
  {
   "cell_type": "markdown",
   "source": [
    "## 4. Model Building"
   ],
   "metadata": {
    "collapsed": false
   },
   "id": "ccb706d5c8da2a46"
  },
  {
   "cell_type": "code",
   "execution_count": 29,
   "outputs": [],
   "source": [
    "# Define the vgg16 model\n",
    "\n",
    "def build_vgg16(input_shape=(224, 224, 3), num_classes=5):\n",
    "    # Define the input\n",
    "    input_tensor = Input(shape=input_shape)\n",
    "\n",
    "    # First block\n",
    "    x = Conv2D(64, (3, 3), activation='relu', padding='same')(input_tensor)\n",
    "    x = Conv2D(64, (3, 3), activation='relu', padding='same')(x)\n",
    "    x = MaxPooling2D((2, 2), strides=(2, 2))(x)\n",
    "\n",
    "    # Second block\n",
    "    x = Conv2D(128, (3, 3), activation='relu', padding='same')(x)\n",
    "    x = Conv2D(128, (3, 3), activation='relu', padding='same')(x)\n",
    "    x = MaxPooling2D((2, 2), strides=(2, 2))(x)\n",
    "\n",
    "    # Third block\n",
    "    x = Conv2D(256, (3, 3), activation='relu', padding='same')(x)\n",
    "    x = Conv2D(256, (3, 3), activation='relu', padding='same')(x)\n",
    "    x = Conv2D(256, (3, 3), activation='relu', padding='same')(x)\n",
    "    x = MaxPooling2D((2, 2), strides=(2, 2))(x)\n",
    "\n",
    "    # Fourth block\n",
    "    x = Conv2D(512, (3, 3), activation='relu', padding='same')(x)\n",
    "    x = Conv2D(512, (3, 3), activation='relu', padding='same')(x)\n",
    "    x = Conv2D(512, (3, 3), activation='relu', padding='same')(x)\n",
    "    x = MaxPooling2D((2, 2), strides=(2, 2))(x)\n",
    "\n",
    "    # Fifth block\n",
    "    x = Conv2D(512, (3, 3), activation='relu', padding='same')(x)\n",
    "    x = Conv2D(512, (3, 3), activation='relu', padding='same')(x)\n",
    "    x = Conv2D(512, (3, 3), activation='relu', padding='same')(x)\n",
    "    x = MaxPooling2D((2, 2), strides=(2, 2))(x)\n",
    "\n",
    "    # Flatten and Dense layers\n",
    "    x = Flatten()(x)\n",
    "    x = Dense(4096, activation='relu')(x)\n",
    "    x = Dropout(0.5)(x)\n",
    "    x = Dense(4096, activation='relu')(x)\n",
    "    x = Dropout(0.5)(x)\n",
    "    x = Dense(num_classes, activation='softmax')(x)\n",
    "\n",
    "    # Create the model\n",
    "    model = Model(inputs=input_tensor, outputs=x)\n",
    "    return model"
   ],
   "metadata": {
    "collapsed": false,
    "ExecuteTime": {
     "end_time": "2023-12-14T18:11:01.972279Z",
     "start_time": "2023-12-14T18:11:01.968675Z"
    }
   },
   "id": "eae3504a7cddb2e0"
  },
  {
   "cell_type": "code",
   "execution_count": 30,
   "outputs": [
    {
     "name": "stderr",
     "output_type": "stream",
     "text": [
      "WARNING:absl:At this time, the v2.11+ optimizer `tf.keras.optimizers.Adam` runs slowly on M1/M2 Macs, please use the legacy Keras optimizer instead, located at `tf.keras.optimizers.legacy.Adam`.\n"
     ]
    },
    {
     "name": "stdout",
     "output_type": "stream",
     "text": [
      "Model: \"model_1\"\n",
      "_________________________________________________________________\n",
      " Layer (type)                Output Shape              Param #   \n",
      "=================================================================\n",
      " input_2 (InputLayer)        [(None, 224, 224, 3)]     0         \n",
      "                                                                 \n",
      " conv2d_13 (Conv2D)          (None, 224, 224, 64)      1792      \n",
      "                                                                 \n",
      " conv2d_14 (Conv2D)          (None, 224, 224, 64)      36928     \n",
      "                                                                 \n",
      " max_pooling2d_5 (MaxPoolin  (None, 112, 112, 64)      0         \n",
      " g2D)                                                            \n",
      "                                                                 \n",
      " conv2d_15 (Conv2D)          (None, 112, 112, 128)     73856     \n",
      "                                                                 \n",
      " conv2d_16 (Conv2D)          (None, 112, 112, 128)     147584    \n",
      "                                                                 \n",
      " max_pooling2d_6 (MaxPoolin  (None, 56, 56, 128)       0         \n",
      " g2D)                                                            \n",
      "                                                                 \n",
      " conv2d_17 (Conv2D)          (None, 56, 56, 256)       295168    \n",
      "                                                                 \n",
      " conv2d_18 (Conv2D)          (None, 56, 56, 256)       590080    \n",
      "                                                                 \n",
      " conv2d_19 (Conv2D)          (None, 56, 56, 256)       590080    \n",
      "                                                                 \n",
      " max_pooling2d_7 (MaxPoolin  (None, 28, 28, 256)       0         \n",
      " g2D)                                                            \n",
      "                                                                 \n",
      " conv2d_20 (Conv2D)          (None, 28, 28, 512)       1180160   \n",
      "                                                                 \n",
      " conv2d_21 (Conv2D)          (None, 28, 28, 512)       2359808   \n",
      "                                                                 \n",
      " conv2d_22 (Conv2D)          (None, 28, 28, 512)       2359808   \n",
      "                                                                 \n",
      " max_pooling2d_8 (MaxPoolin  (None, 14, 14, 512)       0         \n",
      " g2D)                                                            \n",
      "                                                                 \n",
      " conv2d_23 (Conv2D)          (None, 14, 14, 512)       2359808   \n",
      "                                                                 \n",
      " conv2d_24 (Conv2D)          (None, 14, 14, 512)       2359808   \n",
      "                                                                 \n",
      " conv2d_25 (Conv2D)          (None, 14, 14, 512)       2359808   \n",
      "                                                                 \n",
      " max_pooling2d_9 (MaxPoolin  (None, 7, 7, 512)         0         \n",
      " g2D)                                                            \n",
      "                                                                 \n",
      " flatten_1 (Flatten)         (None, 25088)             0         \n",
      "                                                                 \n",
      " dense_3 (Dense)             (None, 4096)              102764544 \n",
      "                                                                 \n",
      " dropout_2 (Dropout)         (None, 4096)              0         \n",
      "                                                                 \n",
      " dense_4 (Dense)             (None, 4096)              16781312  \n",
      "                                                                 \n",
      " dropout_3 (Dropout)         (None, 4096)              0         \n",
      "                                                                 \n",
      " dense_5 (Dense)             (None, 5)                 20485     \n",
      "                                                                 \n",
      "=================================================================\n",
      "Total params: 134281029 (512.24 MB)\n",
      "Trainable params: 134281029 (512.24 MB)\n",
      "Non-trainable params: 0 (0.00 Byte)\n",
      "_________________________________________________________________\n"
     ]
    }
   ],
   "source": [
    "# Build the model\n",
    "model = build_vgg16()\n",
    "\n",
    "# Compile the model\n",
    "model.compile(optimizer=Adam(learning_rate=0.0001), \n",
    "              loss='categorical_crossentropy', \n",
    "              metrics=['accuracy'])\n",
    "\n",
    "# Summary of the model\n",
    "model.summary()"
   ],
   "metadata": {
    "collapsed": false,
    "ExecuteTime": {
     "end_time": "2023-12-14T18:11:02.777834Z",
     "start_time": "2023-12-14T18:11:02.482884Z"
    }
   },
   "id": "ac3601f7c8d95a75"
  },
  {
   "cell_type": "markdown",
   "source": [
    "## 5. Model Training"
   ],
   "metadata": {
    "collapsed": false
   },
   "id": "9c1aea3029795f2d"
  },
  {
   "cell_type": "code",
   "execution_count": 31,
   "outputs": [
    {
     "name": "stdout",
     "output_type": "stream",
     "text": [
      "Epoch 1/50\n",
      "8/8 [==============================] - 50s 6s/step - loss: 1.6122 - accuracy: 0.1800\n",
      "Epoch 2/50\n",
      "8/8 [==============================] - 47s 6s/step - loss: 1.6047 - accuracy: 0.2080\n",
      "Epoch 3/50\n",
      "8/8 [==============================] - 46s 6s/step - loss: 1.5950 - accuracy: 0.2520\n",
      "Epoch 4/50\n",
      "8/8 [==============================] - 46s 6s/step - loss: 1.5811 - accuracy: 0.3360\n",
      "Epoch 5/50\n",
      "8/8 [==============================] - 48s 6s/step - loss: 1.4498 - accuracy: 0.3840\n",
      "Epoch 6/50\n",
      "8/8 [==============================] - 47s 6s/step - loss: 1.3392 - accuracy: 0.4200\n",
      "Epoch 7/50\n",
      "8/8 [==============================] - 47s 6s/step - loss: 1.2662 - accuracy: 0.3800\n",
      "Epoch 8/50\n",
      "8/8 [==============================] - 48s 6s/step - loss: 1.3481 - accuracy: 0.3920\n",
      "Epoch 9/50\n",
      "8/8 [==============================] - 46s 6s/step - loss: 1.2154 - accuracy: 0.4600\n",
      "Epoch 10/50\n",
      "8/8 [==============================] - 47s 6s/step - loss: 1.1537 - accuracy: 0.4720\n",
      "Epoch 11/50\n",
      "8/8 [==============================] - 47s 6s/step - loss: 1.0884 - accuracy: 0.4920\n",
      "Epoch 12/50\n",
      "8/8 [==============================] - 47s 6s/step - loss: 0.9771 - accuracy: 0.5520\n",
      "Epoch 13/50\n",
      "8/8 [==============================] - 46s 6s/step - loss: 1.0325 - accuracy: 0.5560\n",
      "Epoch 14/50\n",
      "8/8 [==============================] - 47s 6s/step - loss: 0.9031 - accuracy: 0.6200\n",
      "Epoch 15/50\n",
      "8/8 [==============================] - 47s 6s/step - loss: 0.8111 - accuracy: 0.6560\n",
      "Epoch 16/50\n",
      "8/8 [==============================] - 46s 6s/step - loss: 0.7436 - accuracy: 0.6920\n",
      "Epoch 17/50\n",
      "8/8 [==============================] - 47s 6s/step - loss: 0.7856 - accuracy: 0.7120\n",
      "Epoch 18/50\n",
      "8/8 [==============================] - 47s 6s/step - loss: 0.8676 - accuracy: 0.6760\n",
      "Epoch 19/50\n",
      "8/8 [==============================] - 46s 6s/step - loss: 0.7384 - accuracy: 0.7160\n",
      "Epoch 20/50\n",
      "8/8 [==============================] - 49s 6s/step - loss: 0.7271 - accuracy: 0.7280\n",
      "Epoch 21/50\n",
      "8/8 [==============================] - 47s 6s/step - loss: 0.6336 - accuracy: 0.7520\n",
      "Epoch 22/50\n",
      "8/8 [==============================] - 47s 6s/step - loss: 0.5024 - accuracy: 0.8080\n",
      "Epoch 23/50\n",
      "8/8 [==============================] - 49s 6s/step - loss: 0.3892 - accuracy: 0.8400\n",
      "Epoch 24/50\n",
      "8/8 [==============================] - 48s 6s/step - loss: 0.3866 - accuracy: 0.8400\n",
      "Epoch 25/50\n",
      "8/8 [==============================] - 46s 6s/step - loss: 0.2768 - accuracy: 0.8920\n",
      "Epoch 26/50\n",
      "8/8 [==============================] - 48s 6s/step - loss: 0.2449 - accuracy: 0.9240\n",
      "Epoch 27/50\n",
      "8/8 [==============================] - 48s 6s/step - loss: 0.3476 - accuracy: 0.8560\n",
      "Epoch 28/50\n",
      "8/8 [==============================] - 54s 7s/step - loss: 0.2212 - accuracy: 0.9240\n",
      "Epoch 29/50\n",
      "8/8 [==============================] - 48s 6s/step - loss: 0.1920 - accuracy: 0.9320\n",
      "Epoch 30/50\n",
      "8/8 [==============================] - 47s 6s/step - loss: 0.4598 - accuracy: 0.8200\n",
      "Epoch 31/50\n",
      "8/8 [==============================] - 46s 6s/step - loss: 0.3727 - accuracy: 0.8720\n",
      "Epoch 32/50\n",
      "8/8 [==============================] - 47s 6s/step - loss: 0.3487 - accuracy: 0.8640\n",
      "Epoch 33/50\n",
      "8/8 [==============================] - 47s 6s/step - loss: 0.2579 - accuracy: 0.9320\n",
      "Epoch 34/50\n",
      "8/8 [==============================] - 49s 6s/step - loss: 0.2079 - accuracy: 0.9400\n",
      "Epoch 35/50\n",
      "8/8 [==============================] - 48s 6s/step - loss: 0.2373 - accuracy: 0.9160\n",
      "Epoch 36/50\n",
      "8/8 [==============================] - 48s 6s/step - loss: 0.1462 - accuracy: 0.9600\n",
      "Epoch 37/50\n",
      "8/8 [==============================] - 49s 6s/step - loss: 0.0789 - accuracy: 0.9760\n",
      "Epoch 38/50\n",
      "8/8 [==============================] - 48s 6s/step - loss: 0.0266 - accuracy: 0.9920\n",
      "Epoch 39/50\n",
      "8/8 [==============================] - 48s 6s/step - loss: 0.0371 - accuracy: 0.9840\n",
      "Epoch 40/50\n",
      "8/8 [==============================] - 49s 6s/step - loss: 0.0214 - accuracy: 0.9960\n",
      "Epoch 41/50\n",
      "8/8 [==============================] - 48s 6s/step - loss: 0.1266 - accuracy: 0.9560\n",
      "Epoch 42/50\n",
      "8/8 [==============================] - 49s 6s/step - loss: 0.1772 - accuracy: 0.9480\n",
      "Epoch 43/50\n",
      "8/8 [==============================] - 48s 6s/step - loss: 0.2007 - accuracy: 0.9320\n",
      "Epoch 44/50\n",
      "8/8 [==============================] - 52s 6s/step - loss: 0.0942 - accuracy: 0.9720\n",
      "Epoch 45/50\n",
      "8/8 [==============================] - 50s 6s/step - loss: 0.0585 - accuracy: 0.9720\n",
      "Epoch 46/50\n",
      "8/8 [==============================] - 49s 6s/step - loss: 0.0862 - accuracy: 0.9720\n",
      "Epoch 47/50\n",
      "8/8 [==============================] - 47s 6s/step - loss: 0.0336 - accuracy: 0.9920\n",
      "Epoch 48/50\n",
      "8/8 [==============================] - 47s 6s/step - loss: 0.0762 - accuracy: 0.9880\n",
      "Epoch 49/50\n",
      "8/8 [==============================] - 46s 6s/step - loss: 0.0889 - accuracy: 0.9640\n",
      "Epoch 50/50\n",
      "8/8 [==============================] - 48s 6s/step - loss: 0.0482 - accuracy: 0.9880\n"
     ]
    }
   ],
   "source": [
    "# Train the model\n",
    "history = model.fit(train_generator, epochs=50)"
   ],
   "metadata": {
    "collapsed": false,
    "ExecuteTime": {
     "end_time": "2023-12-14T18:50:50.254287Z",
     "start_time": "2023-12-14T18:11:03.411482Z"
    }
   },
   "id": "f1eec61e707590b3"
  },
  {
   "cell_type": "markdown",
   "source": [
    "## 6. Model Evaluation"
   ],
   "metadata": {
    "collapsed": false
   },
   "id": "29bbd3f2f57c8c58"
  },
  {
   "cell_type": "code",
   "execution_count": 32,
   "outputs": [
    {
     "name": "stdout",
     "output_type": "stream",
     "text": [
      "8/8 [==============================] - 13s 2s/step - loss: 0.0312 - accuracy: 0.9920\n",
      "Accuracy on training set: 0.9919999837875366\n"
     ]
    }
   ],
   "source": [
    "# Evaluate the model on the training set\n",
    "train_loss, train_accuracy = model.evaluate(train_generator)\n",
    "print(\"Accuracy on training set:\", train_accuracy)"
   ],
   "metadata": {
    "collapsed": false,
    "ExecuteTime": {
     "end_time": "2023-12-14T18:51:03.785487Z",
     "start_time": "2023-12-14T18:50:50.255728Z"
    }
   },
   "id": "d8f471678f107987"
  },
  {
   "cell_type": "code",
   "execution_count": 33,
   "outputs": [
    {
     "data": {
      "text/plain": "<Figure size 1200x400 with 2 Axes>",
      "image/png": "[encoded data removed]"
     },
     "metadata": {},
     "output_type": "display_data"
    }
   ],
   "source": [
    "import matplotlib.pyplot as plt\n",
    "\n",
    "# Plot the training accuracy and loss\n",
    "plt.figure(figsize=(12, 4))\n",
    "plt.subplot(1, 2, 1)\n",
    "plt.plot(history.history['accuracy'], label='Accuracy')\n",
    "plt.title('Training Accuracy')\n",
    "plt.legend()\n",
    "\n",
    "plt.subplot(1, 2, 2)\n",
    "plt.plot(history.history['loss'], label='Loss')\n",
    "plt.title('Training Loss')\n",
    "plt.legend()\n",
    "plt.show()"
   ],
   "metadata": {
    "collapsed": false,
    "ExecuteTime": {
     "end_time": "2023-12-14T18:51:04.259507Z",
     "start_time": "2023-12-14T18:51:03.785007Z"
    }
   },
   "id": "d0510e0f42a5a498"
  },
  {
   "cell_type": "code",
   "execution_count": null,
   "outputs": [],
   "source": [],
   "metadata": {
    "collapsed": false
   },
   "id": "bb34fe85bbe461cb"
  }
 ],
 "metadata": {
  "kernelspec": {
   "display_name": "Python 3",
   "language": "python",
   "name": "python3"
  },
  "language_info": {
   "codemirror_mode": {
    "name": "ipython",
    "version": 2
   },
   "file_extension": ".py",
   "mimetype": "text/x-python",
   "name": "python",
   "nbconvert_exporter": "python",
   "pygments_lexer": "ipython2",
   "version": "2.7.6"
  }
 },
 "nbformat": 4,
 "nbformat_minor": 5
}

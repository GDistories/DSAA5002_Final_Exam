{
 "cells": [
  {
   "cell_type": "code",
   "execution_count": 10,
   "outputs": [],
   "source": [
    "import subprocess\n",
    "import os\n",
    "import time\n",
    "\n",
    "from tqdm import tqdm"
   ],
   "metadata": {
    "collapsed": false,
    "ExecuteTime": {
     "end_time": "2023-12-14T15:43:53.227529Z",
     "start_time": "2023-12-14T15:43:53.226212Z"
    }
   },
   "id": "a4b8ab771b89a5d3"
  },
  {
   "cell_type": "markdown",
   "source": [
    "# 使用FFmpeg将视频转换为图片，每秒一帧"
   ],
   "metadata": {
    "collapsed": false
   },
   "id": "8607e9509ca31266"
  },
  {
   "cell_type": "code",
   "execution_count": 11,
   "id": "initial_id",
   "metadata": {
    "collapsed": true,
    "ExecuteTime": {
     "end_time": "2023-12-14T15:43:54.325892Z",
     "start_time": "2023-12-14T15:43:54.324327Z"
    }
   },
   "outputs": [],
   "source": [
    "def extract_key_frames_ffmpeg(video_path, output_base_folder, frame_rate=1):\n",
    "    \"\"\"使用 FFmpeg 提取视频中的关键帧并将它们保存到以视频命名的文件夹中。\n",
    "\n",
    "    Args:\n",
    "        video_path (str): 视频文件的路径。\n",
    "        output_base_folder (str): 存储所有关键帧文件夹的基础路径。\n",
    "        frame_rate (int, optional): 提取关键帧的频率。默认每秒提取一帧。\n",
    "    \"\"\"\n",
    "    video_name = os.path.basename(video_path).split('.')[0]\n",
    "    output_folder = os.path.join(output_base_folder, video_name)\n",
    "    \n",
    "    # 创建视频对应的文件夹（如果不存在的话）\n",
    "    if not os.path.exists(output_folder):\n",
    "        os.makedirs(output_folder)\n",
    "\n",
    "    output_filename = os.path.join(output_folder, \"frame_%d.jpg\")\n",
    "    cmd = f\"./ffmpeg -i {video_path} -vf fps={frame_rate} {output_filename}\"\n",
    "    subprocess.run(cmd, shell=True, stdout=subprocess.DEVNULL, stderr=subprocess.DEVNULL)\n",
    "\n",
    "\n",
    "def process_videos_with_ffmpeg(folder_path, output_folder, frame_rate=1):\n",
    "    \"\"\"使用 FFmpeg 处理文件夹中的所有视频，并显示进度条。\n",
    "\n",
    "    Args:\n",
    "        folder_path (str): 包含视频文件的文件夹路径。\n",
    "        output_folder (str): 存储关键帧的文件夹路径。\n",
    "        frame_rate (int, optional): 提取关键帧的频率。默认每秒提取一帧。\n",
    "    \"\"\"\n",
    "    videos = [os.path.join(folder_path, f) for f in os.listdir(folder_path) if f.endswith('.mp4')]\n",
    "\n",
    "    with tqdm(total=len(videos), desc=\"Processing Videos\") as pbar:\n",
    "        for video in videos:\n",
    "            extract_key_frames_ffmpeg(video, output_folder, frame_rate)\n",
    "            pbar.update(1)"
   ]
  },
  {
   "cell_type": "code",
   "execution_count": 12,
   "outputs": [
    {
     "name": "stderr",
     "output_type": "stream",
     "text": [
      "Processing Videos: 100%|██████████| 2063/2063 [03:40<00:00,  9.36it/s]\n",
      "Processing Videos: 100%|██████████| 562/562 [01:01<00:00,  9.07it/s]\n"
     ]
    }
   ],
   "source": [
    "# 训练集和测试集的路径\n",
    "train_videos_path = '../Data_Q3/train_video'\n",
    "test_videos_path = '../Data_Q3/test_video'\n",
    "\n",
    "# 输出文件夹\n",
    "output_folder_train = '../Processed_Data_Q3/train_key_frames'\n",
    "output_folder_test = '../Processed_Data_Q3/test_key_frames'\n",
    "\n",
    "# 处理训练集和测试集中的视频\n",
    "process_videos_with_ffmpeg(train_videos_path, output_folder_train)\n",
    "process_videos_with_ffmpeg(test_videos_path, output_folder_test)\n"
   ],
   "metadata": {
    "collapsed": false,
    "ExecuteTime": {
     "end_time": "2023-12-14T15:48:39.458739Z",
     "start_time": "2023-12-14T15:43:57.123163Z"
    }
   },
   "id": "e649f1e5e571d114"
  },
  {
   "cell_type": "markdown",
   "source": [
    "# Model"
   ],
   "metadata": {
    "collapsed": false
   },
   "id": "a978190fa2e8bf06"
  },
  {
   "cell_type": "code",
   "execution_count": null,
   "outputs": [],
   "source": [
    "import torch\n",
    "import torch.nn as nn\n",
    "import torch.optim as optim\n",
    "from torch.utils.data import DataLoader, Dataset\n",
    "from torchvision import transforms\n",
    "from PIL import Image\n",
    "import os"
   ],
   "metadata": {
    "collapsed": false
   },
   "id": "a7b8348fd6ec7cdc"
  },
  {
   "cell_type": "code",
   "execution_count": null,
   "outputs": [],
   "source": [],
   "metadata": {
    "collapsed": false
   },
   "id": "18a4042ea1905bfe"
  }
 ],
 "metadata": {
  "kernelspec": {
   "display_name": "Python 3",
   "language": "python",
   "name": "python3"
  },
  "language_info": {
   "codemirror_mode": {
    "name": "ipython",
    "version": 2
   },
   "file_extension": ".py",
   "mimetype": "text/x-python",
   "name": "python",
   "nbconvert_exporter": "python",
   "pygments_lexer": "ipython2",
   "version": "2.7.6"
  }
 },
 "nbformat": 4,
 "nbformat_minor": 5
}

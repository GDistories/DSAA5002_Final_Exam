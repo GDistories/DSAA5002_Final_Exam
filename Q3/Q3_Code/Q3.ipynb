{
 "cells": [
  {
   "cell_type": "code",
   "execution_count": 4,
   "outputs": [],
   "source": [
    "import subprocess\n",
    "import os\n",
    "import time\n",
    "import matplotlib.pyplot as plt\n",
    "from tqdm import tqdm\n",
    "import numpy as np"
   ],
   "metadata": {
    "collapsed": false,
    "ExecuteTime": {
     "end_time": "2023-12-14T23:36:37.798704Z",
     "start_time": "2023-12-14T23:36:37.426954Z"
    }
   },
   "id": "a4b8ab771b89a5d3"
  },
  {
   "cell_type": "markdown",
   "source": [
    "# 使用FFmpeg将视频转换为图片，每秒一帧"
   ],
   "metadata": {
    "collapsed": false
   },
   "id": "8607e9509ca31266"
  },
  {
   "cell_type": "code",
   "execution_count": 11,
   "id": "initial_id",
   "metadata": {
    "collapsed": true,
    "ExecuteTime": {
     "end_time": "2023-12-14T23:37:49.867825Z",
     "start_time": "2023-12-14T23:37:49.864227Z"
    }
   },
   "outputs": [],
   "source": [
    "def extract_key_frames_ffmpeg(video_path, output_base_folder, frame_rate=1):\n",
    "    \"\"\"使用 FFmpeg 提取视频中的关键帧并将它们保存到以视频命名的文件夹中。\n",
    "\n",
    "    Args:\n",
    "        video_path (str): 视频文件的路径。\n",
    "        output_base_folder (str): 存储所有关键帧文件夹的基础路径。\n",
    "        frame_rate (int, optional): 提取关键帧的频率。默认每秒提取一帧。\n",
    "    \"\"\"\n",
    "    video_name = os.path.basename(video_path).split('.')[0]\n",
    "    output_folder = os.path.join(output_base_folder, video_name)\n",
    "    \n",
    "    # 创建视频对应的文件夹（如果不存在的话）\n",
    "    if not os.path.exists(output_folder):\n",
    "        os.makedirs(output_folder)\n",
    "\n",
    "    output_filename = os.path.join(output_folder, \"frame_%d.jpg\")\n",
    "    cmd = f\"./ffmpeg -i {video_path} -vf fps={frame_rate} {output_filename}\"\n",
    "    subprocess.run(cmd, shell=True, stdout=subprocess.DEVNULL, stderr=subprocess.DEVNULL)\n",
    "\n",
    "\n",
    "def process_videos_with_ffmpeg(folder_path, output_folder, frame_rate=1):\n",
    "    \"\"\"使用 FFmpeg 处理文件夹中的所有视频，并显示进度条。\n",
    "\n",
    "    Args:\n",
    "        folder_path (str): 包含视频文件的文件夹路径。\n",
    "        output_folder (str): 存储关键帧的文件夹路径。\n",
    "        frame_rate (int, optional): 提取关键帧的频率。默认每秒提取一帧。\n",
    "    \"\"\"\n",
    "    videos = [os.path.join(folder_path, f) for f in os.listdir(folder_path) if f.endswith('.mp4')]\n",
    "\n",
    "    with tqdm(total=len(videos), desc=\"Processing Videos\") as pbar:\n",
    "        for video in videos:\n",
    "            extract_key_frames_ffmpeg(video, output_folder, frame_rate)\n",
    "            pbar.update(1)"
   ]
  },
  {
   "cell_type": "code",
   "execution_count": 12,
   "outputs": [
    {
     "name": "stderr",
     "output_type": "stream",
     "text": [
      "Processing Videos: 100%|██████████| 2063/2063 [03:44<00:00,  9.21it/s]\n",
      "Processing Videos: 100%|██████████| 562/562 [01:01<00:00,  9.12it/s]\n"
     ]
    }
   ],
   "source": [
    "# 训练集和测试集的路径\n",
    "train_videos_path = '../Data_Q3/train_video'\n",
    "test_videos_path = '../Data_Q3/test_video'\n",
    "\n",
    "# 输出文件夹\n",
    "output_folder_train = '../Processed_Data_Q3/train_key_frames'\n",
    "output_folder_test = '../Processed_Data_Q3/test_key_frames'\n",
    "\n",
    "# 处理训练集和测试集中的视频\n",
    "process_videos_with_ffmpeg(train_videos_path, output_folder_train)\n",
    "process_videos_with_ffmpeg(test_videos_path, output_folder_test)\n"
   ],
   "metadata": {
    "collapsed": false,
    "ExecuteTime": {
     "end_time": "2023-12-14T23:42:36.372080Z",
     "start_time": "2023-12-14T23:37:50.702141Z"
    }
   },
   "id": "e649f1e5e571d114"
  },
  {
   "cell_type": "markdown",
   "source": [
    "# Model"
   ],
   "metadata": {
    "collapsed": false
   },
   "id": "a978190fa2e8bf06"
  },
  {
   "cell_type": "code",
   "execution_count": 26,
   "outputs": [],
   "source": [
    "import os\n",
    "import cv2\n",
    "import numpy as np\n",
    "import pandas as pd\n",
    "from sklearn.model_selection import train_test_split\n",
    "from tensorflow.keras.utils import to_categorical\n",
    "\n",
    "# 读取标签文件\n",
    "def load_labels(tag_file_path):\n",
    "    labels_df = pd.read_csv(tag_file_path, header=None, names=['video', 'label'])\n",
    "    labels_df['video'] = labels_df['video'].apply(lambda x: x.split('.')[0])  # 移除文件扩展名\n",
    "    return labels_df\n",
    "\n",
    "# 加载视频帧\n",
    "def load_video_frames(video_folder_path, labels_df=None, frame_size=(64, 64), max_frames=20, load_labels=True):\n",
    "    X, y = [], []\n",
    "    for folder in os.listdir(video_folder_path):\n",
    "        folder_path = os.path.join(video_folder_path, folder)\n",
    "        if not os.path.isdir(folder_path):\n",
    "            continue\n",
    "\n",
    "        frames = []\n",
    "        for frame_file in sorted(os.listdir(folder_path))[:max_frames]:\n",
    "            frame_path = os.path.join(folder_path, frame_file)\n",
    "            img = cv2.imread(frame_path)\n",
    "            img = cv2.resize(img, frame_size)\n",
    "            frames.append(img)\n",
    "\n",
    "        while len(frames) < max_frames:  # 确保所有视频有相同数量的帧\n",
    "            frames.append(np.zeros_like(frames[0]))\n",
    "\n",
    "        X.append(frames)\n",
    "\n",
    "        if load_labels and labels_df is not None:\n",
    "            label = labels_df[labels_df['video'] == folder]['label'].values\n",
    "            if len(label) > 0:\n",
    "                y.append(label[0])\n",
    "            else:\n",
    "                y.append(-1)  # 对于无法找到标签的视频，可以使用一个占位符\n",
    "\n",
    "    X = np.array(X).astype('float32') / 255.0  # 归一化\n",
    "    if load_labels:\n",
    "        y = to_categorical(y)  # 独热编码标签\n",
    "        return X, y\n",
    "    else:\n",
    "        return X\n",
    "\n",
    "\n",
    "tag_file_path = '../Data_Q3/tarin_tag.txt'  # 更改为您的 tag.txt 文件路径\n",
    "train_key_frames_path = '../Processed_Data_Q3/train_key_frames'  # 更改为您的 train_key_frames 文件夹路径\n",
    "\n",
    "labels_df = load_labels(tag_file_path)\n",
    "X, y = load_video_frames(train_key_frames_path, labels_df)"
   ],
   "metadata": {
    "collapsed": false,
    "ExecuteTime": {
     "end_time": "2023-12-15T00:14:15.676830Z",
     "start_time": "2023-12-15T00:13:50.419947Z"
    }
   },
   "id": "31f3c05027bdc4cf"
  },
  {
   "cell_type": "code",
   "execution_count": 14,
   "outputs": [],
   "source": [
    "from tensorflow.keras.models import Sequential\n",
    "from tensorflow.keras.layers import Conv3D, MaxPooling3D, Flatten, Dense, Dropout\n",
    "\n",
    "def build_model(num_classes):\n",
    "    model = Sequential()\n",
    "    model.add(Conv3D(32, kernel_size=(3, 3, 3), activation='relu', input_shape=(20, 64, 64, 3)))\n",
    "    model.add(MaxPooling3D(pool_size=(2, 2, 2)))\n",
    "    model.add(Conv3D(64, kernel_size=(3, 3, 3), activation='relu'))\n",
    "    model.add(MaxPooling3D(pool_size=(2, 2, 2)))\n",
    "    model.add(Flatten())\n",
    "    model.add(Dense(128, activation='relu'))\n",
    "    model.add(Dropout(0.5))\n",
    "    model.add(Dense(num_classes, activation='softmax'))\n",
    "    return model\n",
    "\n",
    "model = build_model(num_classes=y.shape[1])\n",
    "model.compile(loss='categorical_crossentropy', optimizer='adam', metrics=['accuracy'])\n"
   ],
   "metadata": {
    "collapsed": false,
    "ExecuteTime": {
     "end_time": "2023-12-14T23:49:33.279383Z",
     "start_time": "2023-12-14T23:49:33.208150Z"
    }
   },
   "id": "5029dfdc7081d"
  },
  {
   "cell_type": "code",
   "execution_count": 16,
   "outputs": [
    {
     "name": "stdout",
     "output_type": "stream",
     "text": [
      "Epoch 1/10\n",
      "52/52 [==============================] - 117s 2s/step - loss: 2.1468 - accuracy: 0.3376 - val_loss: 1.7906 - val_accuracy: 0.4189\n",
      "Epoch 2/10\n",
      "52/52 [==============================] - 117s 2s/step - loss: 2.0512 - accuracy: 0.3539 - val_loss: 1.7417 - val_accuracy: 0.4262\n",
      "Epoch 3/10\n",
      "52/52 [==============================] - 116s 2s/step - loss: 1.8958 - accuracy: 0.4024 - val_loss: 1.6332 - val_accuracy: 0.4891\n",
      "Epoch 4/10\n",
      "52/52 [==============================] - 116s 2s/step - loss: 1.7581 - accuracy: 0.4448 - val_loss: 1.5349 - val_accuracy: 0.4939\n",
      "Epoch 5/10\n",
      "52/52 [==============================] - 116s 2s/step - loss: 1.5973 - accuracy: 0.4782 - val_loss: 1.4367 - val_accuracy: 0.5157\n",
      "Epoch 6/10\n",
      "52/52 [==============================] - 115s 2s/step - loss: 1.4380 - accuracy: 0.5291 - val_loss: 1.4122 - val_accuracy: 0.5206\n",
      "Epoch 7/10\n",
      "52/52 [==============================] - 116s 2s/step - loss: 1.2685 - accuracy: 0.5794 - val_loss: 1.2959 - val_accuracy: 0.5642\n",
      "Epoch 8/10\n",
      "52/52 [==============================] - 115s 2s/step - loss: 1.1506 - accuracy: 0.6176 - val_loss: 1.2833 - val_accuracy: 0.5908\n",
      "Epoch 9/10\n",
      "52/52 [==============================] - 117s 2s/step - loss: 0.9624 - accuracy: 0.6727 - val_loss: 1.3336 - val_accuracy: 0.5400\n",
      "Epoch 10/10\n",
      "52/52 [==============================] - 115s 2s/step - loss: 0.8405 - accuracy: 0.7152 - val_loss: 1.2569 - val_accuracy: 0.6174\n"
     ]
    }
   ],
   "source": [
    "X_train, X_test, y_train, y_test = train_test_split(X, y, test_size=0.2, random_state=42)\n",
    "\n",
    "history = model.fit(X_train, y_train, batch_size=32, epochs=10, validation_data=(X_test, y_test))"
   ],
   "metadata": {
    "collapsed": false,
    "ExecuteTime": {
     "end_time": "2023-12-15T00:10:02.965546Z",
     "start_time": "2023-12-14T23:50:42.644691Z"
    }
   },
   "id": "12a95d49816b6b47"
  },
  {
   "cell_type": "code",
   "execution_count": 17,
   "outputs": [
    {
     "name": "stdout",
     "output_type": "stream",
     "text": [
      "13/13 [==============================] - 2s 183ms/step - loss: 1.2569 - accuracy: 0.6174\n",
      "Test loss: 1.256949782371521 / Test accuracy: 0.6174334287643433\n"
     ]
    }
   ],
   "source": [
    "score = model.evaluate(X_test, y_test)\n",
    "print(f'Test loss: {score[0]} / Test accuracy: {score[1]}')"
   ],
   "metadata": {
    "collapsed": false,
    "ExecuteTime": {
     "end_time": "2023-12-15T00:10:05.534297Z",
     "start_time": "2023-12-15T00:10:02.964065Z"
    }
   },
   "id": "bba49c35563ccfd"
  },
  {
   "cell_type": "code",
   "execution_count": 24,
   "outputs": [
    {
     "data": {
      "text/plain": "<Figure size 1200x500 with 2 Axes>",
      "image/png": "[encoded data removed]"
     },
     "metadata": {},
     "output_type": "display_data"
    }
   ],
   "source": [
    "# Corrected code for plotting\n",
    "import matplotlib.pyplot as plt\n",
    "\n",
    "plt.figure(figsize=(12, 5))\n",
    "\n",
    "plt.subplot(1, 2, 1)\n",
    "plt.plot(history.history['accuracy'], label='Training Accuracy')\n",
    "plt.plot(history.history['val_accuracy'], label='Validation Accuracy')\n",
    "plt.title('Model Accuracy')\n",
    "plt.xlabel('Epoch')\n",
    "plt.ylabel('Accuracy')\n",
    "plt.legend()\n",
    "\n",
    "plt.subplot(1, 2, 2)\n",
    "plt.plot(history.history['loss'], label='Training Loss')\n",
    "plt.plot(history.history['val_loss'], label='Validation Loss')\n",
    "plt.title('Model Loss')\n",
    "plt.xlabel('Epoch')\n",
    "plt.ylabel('Loss')\n",
    "plt.legend()\n",
    "\n",
    "plt.tight_layout()\n",
    "plt.show()\n"
   ],
   "metadata": {
    "collapsed": false,
    "ExecuteTime": {
     "end_time": "2023-12-15T00:12:08.252223Z",
     "start_time": "2023-12-15T00:12:08.103820Z"
    }
   },
   "id": "5ef825dfc1d858a1"
  },
  {
   "cell_type": "code",
   "execution_count": 27,
   "outputs": [],
   "source": [
    "test_key_frames_path = '../Processed_Data_Q3/test_key_frames' \n",
    "\n",
    "# 使用与训练数据相同的函数加载测试数据\n",
    "X_test = load_video_frames(test_key_frames_path, load_labels=False) "
   ],
   "metadata": {
    "collapsed": false,
    "ExecuteTime": {
     "end_time": "2023-12-15T00:14:27.303890Z",
     "start_time": "2023-12-15T00:14:20.450950Z"
    }
   },
   "id": "b6aabf28698f7147"
  },
  {
   "cell_type": "code",
   "execution_count": 28,
   "outputs": [
    {
     "name": "stdout",
     "output_type": "stream",
     "text": [
      "18/18 [==============================] - 3s 175ms/step\n"
     ]
    }
   ],
   "source": [
    "# 使用训练好的模型进行预测\n",
    "predictions = model.predict(X_test)\n",
    "predicted_labels = np.argmax(predictions, axis=1)"
   ],
   "metadata": {
    "collapsed": false,
    "ExecuteTime": {
     "end_time": "2023-12-15T00:14:31.376734Z",
     "start_time": "2023-12-15T00:14:28.086874Z"
    }
   },
   "id": "881adb64b8c4631a"
  },
  {
   "cell_type": "code",
   "execution_count": 29,
   "outputs": [
    {
     "data": {
      "text/plain": "                 file_name  label\n0            602356487.mp4      7\n1            838716540.mp4     11\n2      897974621_70_80.mp4      2\n3            879516906.mp4      3\n4    748491221_220_230.mp4      7\n..                     ...    ...\n557          543121627.mp4      9\n558          872048877.mp4      3\n559          501034834.mp4     12\n560          837886335.mp4     10\n561          862063858.mp4      9\n\n[562 rows x 2 columns]",
      "text/html": "<div>\n<style scoped>\n    .dataframe tbody tr th:only-of-type {\n        vertical-align: middle;\n    }\n\n    .dataframe tbody tr th {\n        vertical-align: top;\n    }\n\n    .dataframe thead th {\n        text-align: right;\n    }\n</style>\n<table border=\"1\" class=\"dataframe\">\n  <thead>\n    <tr style=\"text-align: right;\">\n      <th></th>\n      <th>file_name</th>\n      <th>label</th>\n    </tr>\n  </thead>\n  <tbody>\n    <tr>\n      <th>0</th>\n      <td>602356487.mp4</td>\n      <td>7</td>\n    </tr>\n    <tr>\n      <th>1</th>\n      <td>838716540.mp4</td>\n      <td>11</td>\n    </tr>\n    <tr>\n      <th>2</th>\n      <td>897974621_70_80.mp4</td>\n      <td>2</td>\n    </tr>\n    <tr>\n      <th>3</th>\n      <td>879516906.mp4</td>\n      <td>3</td>\n    </tr>\n    <tr>\n      <th>4</th>\n      <td>748491221_220_230.mp4</td>\n      <td>7</td>\n    </tr>\n    <tr>\n      <th>...</th>\n      <td>...</td>\n      <td>...</td>\n    </tr>\n    <tr>\n      <th>557</th>\n      <td>543121627.mp4</td>\n      <td>9</td>\n    </tr>\n    <tr>\n      <th>558</th>\n      <td>872048877.mp4</td>\n      <td>3</td>\n    </tr>\n    <tr>\n      <th>559</th>\n      <td>501034834.mp4</td>\n      <td>12</td>\n    </tr>\n    <tr>\n      <th>560</th>\n      <td>837886335.mp4</td>\n      <td>10</td>\n    </tr>\n    <tr>\n      <th>561</th>\n      <td>862063858.mp4</td>\n      <td>9</td>\n    </tr>\n  </tbody>\n</table>\n<p>562 rows × 2 columns</p>\n</div>"
     },
     "execution_count": 29,
     "metadata": {},
     "output_type": "execute_result"
    }
   ],
   "source": [
    "\n",
    "# 获取测试视频的文件名\n",
    "test_video_names = [folder for folder in os.listdir(test_key_frames_path) if os.path.isdir(os.path.join(test_key_frames_path, folder))]\n",
    "\n",
    "# 创建包含文件名和预测标签的 DataFrame\n",
    "results_df = pd.DataFrame({\n",
    "    'file_name': [name + '.mp4' for name in test_video_names],\n",
    "    'label': predicted_labels\n",
    "})\n",
    "\n",
    "\n",
    "results_df"
   ],
   "metadata": {
    "collapsed": false,
    "ExecuteTime": {
     "end_time": "2023-12-15T00:14:32.556990Z",
     "start_time": "2023-12-15T00:14:32.544115Z"
    }
   },
   "id": "9fb69dc58ee8e0ca"
  },
  {
   "cell_type": "code",
   "execution_count": 19,
   "outputs": [
    {
     "ename": "TypeError",
     "evalue": "'History' object is not subscriptable",
     "output_type": "error",
     "traceback": [
      "\u001B[0;31m---------------------------------------------------------------------------\u001B[0m",
      "\u001B[0;31mTypeError\u001B[0m                                 Traceback (most recent call last)",
      "Cell \u001B[0;32mIn[19], line 5\u001B[0m\n\u001B[1;32m      2\u001B[0m plt\u001B[38;5;241m.\u001B[39mfigure(figsize\u001B[38;5;241m=\u001B[39m(\u001B[38;5;241m12\u001B[39m, \u001B[38;5;241m5\u001B[39m))\n\u001B[1;32m      4\u001B[0m plt\u001B[38;5;241m.\u001B[39msubplot(\u001B[38;5;241m1\u001B[39m, \u001B[38;5;241m2\u001B[39m, \u001B[38;5;241m1\u001B[39m)\n\u001B[0;32m----> 5\u001B[0m plt\u001B[38;5;241m.\u001B[39mplot(\u001B[43mhistory\u001B[49m\u001B[43m[\u001B[49m\u001B[38;5;124;43m'\u001B[39;49m\u001B[38;5;124;43maccuracy\u001B[39;49m\u001B[38;5;124;43m'\u001B[39;49m\u001B[43m]\u001B[49m, label\u001B[38;5;241m=\u001B[39m\u001B[38;5;124m'\u001B[39m\u001B[38;5;124mTraining Accuracy\u001B[39m\u001B[38;5;124m'\u001B[39m)\n\u001B[1;32m      6\u001B[0m plt\u001B[38;5;241m.\u001B[39mplot(history[\u001B[38;5;124m'\u001B[39m\u001B[38;5;124mval_accuracy\u001B[39m\u001B[38;5;124m'\u001B[39m], label\u001B[38;5;241m=\u001B[39m\u001B[38;5;124m'\u001B[39m\u001B[38;5;124mValidation Accuracy\u001B[39m\u001B[38;5;124m'\u001B[39m)\n\u001B[1;32m      7\u001B[0m plt\u001B[38;5;241m.\u001B[39mtitle(\u001B[38;5;124m'\u001B[39m\u001B[38;5;124mModel Accuracy\u001B[39m\u001B[38;5;124m'\u001B[39m)\n",
      "\u001B[0;31mTypeError\u001B[0m: 'History' object is not subscriptable"
     ]
    },
    {
     "data": {
      "text/plain": "<Figure size 1200x500 with 1 Axes>",
      "image/png": "[encoded data removed]"
     },
     "metadata": {},
     "output_type": "display_data"
    }
   ],
   "source": [],
   "metadata": {
    "collapsed": false,
    "ExecuteTime": {
     "end_time": "2023-12-15T00:10:17.214782Z",
     "start_time": "2023-12-15T00:10:17.156776Z"
    }
   },
   "id": "80c18ad1d676d0a4"
  },
  {
   "cell_type": "markdown",
   "source": [],
   "metadata": {
    "collapsed": false
   },
   "id": "2eec9cfc32c03f7d"
  },
  {
   "cell_type": "code",
   "execution_count": 7,
   "outputs": [
    {
     "name": "stdout",
     "output_type": "stream",
     "text": [
      "Files have been renamed and organized into categories at ../Category_Data\n"
     ]
    }
   ],
   "source": [
    "def organize_and_rename_files_by_category(original_data_path, tag_file_path, output_path):\n",
    "    \"\"\"\n",
    "    Rename files by prefixing them with their folder name and then organize them into categories \n",
    "    based on a tag file.\n",
    "    \n",
    "    :param original_data_path: Path to the directory containing the original data folders.\n",
    "    :param tag_file_path: Path to the tag file that maps folder names to categories.\n",
    "    :param output_path: Path to the directory where the categorized folders will be created.\n",
    "    \"\"\"\n",
    "    import os\n",
    "\n",
    "    # Read and process the tag file\n",
    "    tag_data = {}\n",
    "    with open(tag_file_path, 'r') as file:\n",
    "        for line in file:\n",
    "            video_file, tag = line.strip().split(',')\n",
    "            folder = video_file.split('.')[0]  # Removing the file extension\n",
    "            tag_data[folder] = int(tag)\n",
    "\n",
    "    # Create category directories\n",
    "    for i in range(15):\n",
    "        os.makedirs(os.path.join(output_path, str(i)), exist_ok=True)\n",
    "\n",
    "    # Rename and move files to corresponding category folders\n",
    "    for subdir in os.listdir(original_data_path):\n",
    "        subdir_path = os.path.join(original_data_path, subdir)\n",
    "        if os.path.isdir(subdir_path):\n",
    "            for file in os.listdir(subdir_path):\n",
    "                new_file_name = f\"{subdir}_{file}\"\n",
    "                old_file_path = os.path.join(subdir_path, file)\n",
    "                if subdir in tag_data:\n",
    "                    tag = tag_data[subdir]\n",
    "                    new_file_path = os.path.join(output_path, str(tag), new_file_name)\n",
    "                    os.rename(old_file_path, new_file_path)\n",
    "\n",
    "    print(f\"Files have been renamed and organized into categories at {output_path}\")\n",
    "\n",
    "# Example usage of the function\n",
    "original_data_path = '../Processed_Data_Q3/train_key_frames'  # Replace with your actual data path\n",
    "tag_file_path = '../Data_Q3/tarin_tag.txt'                   # Replace with your actual tag file path\n",
    "output_path = '../Category_Data'                             # Replace with your desired output categories path\n",
    "\n",
    "# Uncomment the following line to run the function with your paths\n",
    "organize_and_rename_files_by_category(original_data_path, tag_file_path, output_path)\n",
    "\n"
   ],
   "metadata": {
    "collapsed": false,
    "ExecuteTime": {
     "end_time": "2023-12-14T23:36:59.922504Z",
     "start_time": "2023-12-14T23:36:59.853456Z"
    }
   },
   "id": "1fe51ff04e8b20ff"
  },
  {
   "cell_type": "code",
   "execution_count": 8,
   "outputs": [
    {
     "name": "stdout",
     "output_type": "stream",
     "text": [
      "Found 0 images belonging to 15 classes.\n"
     ]
    }
   ],
   "source": [
    "from tensorflow.keras.preprocessing.image import ImageDataGenerator\n",
    "\n",
    "# Define parameters\n",
    "data_dir = output_path  # Path to the directory with categorized images\n",
    "image_size = (224, 224)  # Size to which images will be resized\n",
    "batch_size = 32          # Number of images in each batch\n",
    "\n",
    "# Initialize ImageDataGenerator with rescaling\n",
    "datagen = ImageDataGenerator(rescale=1./255)\n",
    "\n",
    "# Load images from directory\n",
    "train_generator = datagen.flow_from_directory(\n",
    "    data_dir,\n",
    "    target_size=image_size,\n",
    "    batch_size=batch_size,\n",
    "    class_mode='categorical')\n"
   ],
   "metadata": {
    "collapsed": false,
    "ExecuteTime": {
     "end_time": "2023-12-14T23:37:05.604763Z",
     "start_time": "2023-12-14T23:37:05.595601Z"
    }
   },
   "id": "4a317081c238525b"
  },
  {
   "cell_type": "code",
   "execution_count": null,
   "outputs": [],
   "source": [],
   "metadata": {
    "collapsed": false
   },
   "id": "ab5598c861c8fb62"
  },
  {
   "cell_type": "code",
   "execution_count": null,
   "outputs": [],
   "source": [],
   "metadata": {
    "collapsed": false
   },
   "id": "b6dca465717531db"
  },
  {
   "cell_type": "code",
   "execution_count": null,
   "outputs": [],
   "source": [],
   "metadata": {
    "collapsed": false
   },
   "id": "65c298d957975500"
  },
  {
   "cell_type": "code",
   "execution_count": 2,
   "outputs": [],
   "source": [
    "tag_file = '../Data_Q3/tarin_tag.txt'  # 更改为您的 tag.txt 文件路径\n",
    "\n",
    "labels = {}\n",
    "with open(tag_file, 'r') as file:\n",
    "    for line in file:\n",
    "        video_name, label = line.strip().split(',')\n",
    "        video_name = video_name.split('.')[0]  # 移除文件后缀\n",
    "        labels[video_name] = int(label)\n",
    "\n"
   ],
   "metadata": {
    "collapsed": false,
    "ExecuteTime": {
     "end_time": "2023-12-14T23:07:06.516948Z",
     "start_time": "2023-12-14T23:07:06.500964Z"
    }
   },
   "id": "a7b8348fd6ec7cdc"
  },
  {
   "cell_type": "code",
   "execution_count": 3,
   "outputs": [],
   "source": [
    "from tensorflow.keras.preprocessing.image import ImageDataGenerator\n",
    "from tensorflow.keras.applications.vgg16 import preprocess_input\n",
    "\n",
    "# 图像生成器\n",
    "train_datagen = ImageDataGenerator(\n",
    "    # 数据增强和预处理设置\n",
    "    rescale=1./255,\n",
    "    rotation_range=40,\n",
    "    width_shift_range=0.2,\n",
    "    height_shift_range=0.2,\n",
    "    shear_range=0.2,\n",
    "    zoom_range=0.2,\n",
    "    horizontal_flip=True,\n",
    "    fill_mode='nearest',\n",
    "    preprocessing_function=preprocess_input\n",
    ")\n",
    "\n",
    "def generate_from_directory_with_labels(directory, labels, batch_size):\n",
    "    generator = train_datagen.flow_from_directory(\n",
    "        directory,\n",
    "        target_size=(224, 224),\n",
    "        batch_size=batch_size,\n",
    "        class_mode=None,\n",
    "        shuffle=False\n",
    "    )\n",
    "\n",
    "    while True:\n",
    "        batch_x = next(generator)\n",
    "        batch_filenames = generator.filenames\n",
    "        batch_y = []\n",
    "\n",
    "        for filename in batch_filenames:\n",
    "            video_name = os.path.basename(os.path.dirname(filename))\n",
    "            label = labels.get(video_name, None)\n",
    "            if label is not None:\n",
    "                batch_y.append(label)\n",
    "            else:\n",
    "                # 只在找不到标签时打印消息\n",
    "                print(f\"Label not found for video: {video_name}\")\n",
    "\n",
    "        # 检查批次大小是否正确\n",
    "        if len(batch_y) == batch_size:\n",
    "            yield batch_x, np.array(batch_y)\n",
    "        else:\n",
    "            # 只在批次大小不匹配时打印消息\n",
    "            print(\"Batch size mismatch. Skipping batch.\")\n",
    "\n",
    "\n",
    "\n",
    "\n",
    "train_generator = generate_from_directory_with_labels(\n",
    "    '../Processed_Data_Q3/train_key_frames',\n",
    "    labels,\n",
    "    batch_size=20\n",
    ")\n"
   ],
   "metadata": {
    "collapsed": false,
    "ExecuteTime": {
     "end_time": "2023-12-14T23:07:09.646557Z",
     "start_time": "2023-12-14T23:07:07.794013Z"
    }
   },
   "id": "18a4042ea1905bfe"
  },
  {
   "cell_type": "code",
   "execution_count": 3,
   "outputs": [],
   "source": [],
   "metadata": {
    "collapsed": false,
    "ExecuteTime": {
     "end_time": "2023-12-14T23:07:10.881033Z",
     "start_time": "2023-12-14T23:07:10.864564Z"
    }
   },
   "id": "fc3da6070b2cec28"
  },
  {
   "cell_type": "code",
   "execution_count": 4,
   "outputs": [
    {
     "name": "stdout",
     "output_type": "stream",
     "text": [
      "Found 26264 images belonging to 2063 classes.\n",
      "Batch size mismatch. Skipping batch.\n",
      "Batch size mismatch. Skipping batch.\n",
      "Batch size mismatch. Skipping batch.\n",
      "Batch size mismatch. Skipping batch.\n",
      "Batch size mismatch. Skipping batch.\n",
      "Batch size mismatch. Skipping batch.\n",
      "Batch size mismatch. Skipping batch.\n",
      "Batch size mismatch. Skipping batch.\n",
      "Batch size mismatch. Skipping batch.\n",
      "Batch size mismatch. Skipping batch.\n",
      "Batch size mismatch. Skipping batch.\n",
      "Batch size mismatch. Skipping batch.\n",
      "Batch size mismatch. Skipping batch.\n",
      "Batch size mismatch. Skipping batch.\n",
      "Batch size mismatch. Skipping batch.\n",
      "Batch size mismatch. Skipping batch.\n",
      "Batch size mismatch. Skipping batch.\n",
      "Batch size mismatch. Skipping batch.\n",
      "Batch size mismatch. Skipping batch.\n",
      "Batch size mismatch. Skipping batch.\n",
      "Batch size mismatch. Skipping batch.\n",
      "Batch size mismatch. Skipping batch.\n",
      "Batch size mismatch. Skipping batch.\n"
     ]
    },
    {
     "ename": "KeyboardInterrupt",
     "evalue": "",
     "output_type": "error",
     "traceback": [
      "\u001B[0;31m---------------------------------------------------------------------------\u001B[0m",
      "\u001B[0;31mKeyboardInterrupt\u001B[0m                         Traceback (most recent call last)",
      "Cell \u001B[0;32mIn[4], line 4\u001B[0m\n\u001B[1;32m      1\u001B[0m \u001B[38;5;28;01mimport\u001B[39;00m \u001B[38;5;21;01mmatplotlib\u001B[39;00m\u001B[38;5;21;01m.\u001B[39;00m\u001B[38;5;21;01mpyplot\u001B[39;00m \u001B[38;5;28;01mas\u001B[39;00m \u001B[38;5;21;01mplt\u001B[39;00m\n\u001B[1;32m      3\u001B[0m \u001B[38;5;66;03m# 获取生成器的一批数据\u001B[39;00m\n\u001B[0;32m----> 4\u001B[0m batch_x, batch_y \u001B[38;5;241m=\u001B[39m \u001B[38;5;28;43mnext\u001B[39;49m\u001B[43m(\u001B[49m\u001B[43mtrain_generator\u001B[49m\u001B[43m)\u001B[49m\n\u001B[1;32m      6\u001B[0m \u001B[38;5;66;03m# 选择要显示的图像数量\u001B[39;00m\n\u001B[1;32m      7\u001B[0m num_images_to_show \u001B[38;5;241m=\u001B[39m \u001B[38;5;241m5\u001B[39m\n",
      "Cell \u001B[0;32mIn[3], line 28\u001B[0m, in \u001B[0;36mgenerate_from_directory_with_labels\u001B[0;34m(directory, labels, batch_size)\u001B[0m\n\u001B[1;32m     19\u001B[0m generator \u001B[38;5;241m=\u001B[39m train_datagen\u001B[38;5;241m.\u001B[39mflow_from_directory(\n\u001B[1;32m     20\u001B[0m     directory,\n\u001B[1;32m     21\u001B[0m     target_size\u001B[38;5;241m=\u001B[39m(\u001B[38;5;241m224\u001B[39m, \u001B[38;5;241m224\u001B[39m),\n\u001B[0;32m   (...)\u001B[0m\n\u001B[1;32m     24\u001B[0m     shuffle\u001B[38;5;241m=\u001B[39m\u001B[38;5;28;01mFalse\u001B[39;00m\n\u001B[1;32m     25\u001B[0m )\n\u001B[1;32m     27\u001B[0m \u001B[38;5;28;01mwhile\u001B[39;00m \u001B[38;5;28;01mTrue\u001B[39;00m:\n\u001B[0;32m---> 28\u001B[0m     batch_x \u001B[38;5;241m=\u001B[39m \u001B[38;5;28mnext\u001B[39m(generator)\n\u001B[1;32m     29\u001B[0m     batch_filenames \u001B[38;5;241m=\u001B[39m generator\u001B[38;5;241m.\u001B[39mfilenames\n\u001B[1;32m     30\u001B[0m     batch_y \u001B[38;5;241m=\u001B[39m []\n",
      "File \u001B[0;32m~/anaconda3/lib/python3.11/site-packages/keras/src/preprocessing/image.py:156\u001B[0m, in \u001B[0;36mIterator.__next__\u001B[0;34m(self, *args, **kwargs)\u001B[0m\n\u001B[1;32m    155\u001B[0m \u001B[38;5;28;01mdef\u001B[39;00m \u001B[38;5;21m__next__\u001B[39m(\u001B[38;5;28mself\u001B[39m, \u001B[38;5;241m*\u001B[39margs, \u001B[38;5;241m*\u001B[39m\u001B[38;5;241m*\u001B[39mkwargs):\n\u001B[0;32m--> 156\u001B[0m     \u001B[38;5;28;01mreturn\u001B[39;00m \u001B[38;5;28;43mself\u001B[39;49m\u001B[38;5;241;43m.\u001B[39;49m\u001B[43mnext\u001B[49m\u001B[43m(\u001B[49m\u001B[38;5;241;43m*\u001B[39;49m\u001B[43margs\u001B[49m\u001B[43m,\u001B[49m\u001B[43m \u001B[49m\u001B[38;5;241;43m*\u001B[39;49m\u001B[38;5;241;43m*\u001B[39;49m\u001B[43mkwargs\u001B[49m\u001B[43m)\u001B[49m\n",
      "File \u001B[0;32m~/anaconda3/lib/python3.11/site-packages/keras/src/preprocessing/image.py:168\u001B[0m, in \u001B[0;36mIterator.next\u001B[0;34m(self)\u001B[0m\n\u001B[1;32m    165\u001B[0m     index_array \u001B[38;5;241m=\u001B[39m \u001B[38;5;28mnext\u001B[39m(\u001B[38;5;28mself\u001B[39m\u001B[38;5;241m.\u001B[39mindex_generator)\n\u001B[1;32m    166\u001B[0m \u001B[38;5;66;03m# The transformation of images is not under thread lock\u001B[39;00m\n\u001B[1;32m    167\u001B[0m \u001B[38;5;66;03m# so it can be done in parallel\u001B[39;00m\n\u001B[0;32m--> 168\u001B[0m \u001B[38;5;28;01mreturn\u001B[39;00m \u001B[38;5;28;43mself\u001B[39;49m\u001B[38;5;241;43m.\u001B[39;49m\u001B[43m_get_batches_of_transformed_samples\u001B[49m\u001B[43m(\u001B[49m\u001B[43mindex_array\u001B[49m\u001B[43m)\u001B[49m\n",
      "File \u001B[0;32m~/anaconda3/lib/python3.11/site-packages/keras/src/preprocessing/image.py:370\u001B[0m, in \u001B[0;36mBatchFromFilesMixin._get_batches_of_transformed_samples\u001B[0;34m(self, index_array)\u001B[0m\n\u001B[1;32m    368\u001B[0m filepaths \u001B[38;5;241m=\u001B[39m \u001B[38;5;28mself\u001B[39m\u001B[38;5;241m.\u001B[39mfilepaths\n\u001B[1;32m    369\u001B[0m \u001B[38;5;28;01mfor\u001B[39;00m i, j \u001B[38;5;129;01min\u001B[39;00m \u001B[38;5;28menumerate\u001B[39m(index_array):\n\u001B[0;32m--> 370\u001B[0m     img \u001B[38;5;241m=\u001B[39m \u001B[43mimage_utils\u001B[49m\u001B[38;5;241;43m.\u001B[39;49m\u001B[43mload_img\u001B[49m\u001B[43m(\u001B[49m\n\u001B[1;32m    371\u001B[0m \u001B[43m        \u001B[49m\u001B[43mfilepaths\u001B[49m\u001B[43m[\u001B[49m\u001B[43mj\u001B[49m\u001B[43m]\u001B[49m\u001B[43m,\u001B[49m\n\u001B[1;32m    372\u001B[0m \u001B[43m        \u001B[49m\u001B[43mcolor_mode\u001B[49m\u001B[38;5;241;43m=\u001B[39;49m\u001B[38;5;28;43mself\u001B[39;49m\u001B[38;5;241;43m.\u001B[39;49m\u001B[43mcolor_mode\u001B[49m\u001B[43m,\u001B[49m\n\u001B[1;32m    373\u001B[0m \u001B[43m        \u001B[49m\u001B[43mtarget_size\u001B[49m\u001B[38;5;241;43m=\u001B[39;49m\u001B[38;5;28;43mself\u001B[39;49m\u001B[38;5;241;43m.\u001B[39;49m\u001B[43mtarget_size\u001B[49m\u001B[43m,\u001B[49m\n\u001B[1;32m    374\u001B[0m \u001B[43m        \u001B[49m\u001B[43minterpolation\u001B[49m\u001B[38;5;241;43m=\u001B[39;49m\u001B[38;5;28;43mself\u001B[39;49m\u001B[38;5;241;43m.\u001B[39;49m\u001B[43minterpolation\u001B[49m\u001B[43m,\u001B[49m\n\u001B[1;32m    375\u001B[0m \u001B[43m        \u001B[49m\u001B[43mkeep_aspect_ratio\u001B[49m\u001B[38;5;241;43m=\u001B[39;49m\u001B[38;5;28;43mself\u001B[39;49m\u001B[38;5;241;43m.\u001B[39;49m\u001B[43mkeep_aspect_ratio\u001B[49m\u001B[43m,\u001B[49m\n\u001B[1;32m    376\u001B[0m \u001B[43m    \u001B[49m\u001B[43m)\u001B[49m\n\u001B[1;32m    377\u001B[0m     x \u001B[38;5;241m=\u001B[39m image_utils\u001B[38;5;241m.\u001B[39mimg_to_array(img, data_format\u001B[38;5;241m=\u001B[39m\u001B[38;5;28mself\u001B[39m\u001B[38;5;241m.\u001B[39mdata_format)\n\u001B[1;32m    378\u001B[0m     \u001B[38;5;66;03m# Pillow images should be closed after `load_img`,\u001B[39;00m\n\u001B[1;32m    379\u001B[0m     \u001B[38;5;66;03m# but not PIL images.\u001B[39;00m\n",
      "File \u001B[0;32m~/anaconda3/lib/python3.11/site-packages/keras/src/utils/image_utils.py:479\u001B[0m, in \u001B[0;36mload_img\u001B[0;34m(path, grayscale, color_mode, target_size, interpolation, keep_aspect_ratio)\u001B[0m\n\u001B[1;32m    477\u001B[0m             img \u001B[38;5;241m=\u001B[39m img\u001B[38;5;241m.\u001B[39mresize(width_height_tuple, resample, box\u001B[38;5;241m=\u001B[39mcrop_box)\n\u001B[1;32m    478\u001B[0m         \u001B[38;5;28;01melse\u001B[39;00m:\n\u001B[0;32m--> 479\u001B[0m             img \u001B[38;5;241m=\u001B[39m \u001B[43mimg\u001B[49m\u001B[38;5;241;43m.\u001B[39;49m\u001B[43mresize\u001B[49m\u001B[43m(\u001B[49m\u001B[43mwidth_height_tuple\u001B[49m\u001B[43m,\u001B[49m\u001B[43m \u001B[49m\u001B[43mresample\u001B[49m\u001B[43m)\u001B[49m\n\u001B[1;32m    480\u001B[0m \u001B[38;5;28;01mreturn\u001B[39;00m img\n",
      "File \u001B[0;32m~/anaconda3/lib/python3.11/site-packages/PIL/Image.py:2157\u001B[0m, in \u001B[0;36mImage.resize\u001B[0;34m(self, size, resample, box, reducing_gap)\u001B[0m\n\u001B[1;32m   2153\u001B[0m     \u001B[38;5;28;01mraise\u001B[39;00m \u001B[38;5;167;01mValueError\u001B[39;00m(msg)\n\u001B[1;32m   2155\u001B[0m size \u001B[38;5;241m=\u001B[39m \u001B[38;5;28mtuple\u001B[39m(size)\n\u001B[0;32m-> 2157\u001B[0m \u001B[38;5;28;43mself\u001B[39;49m\u001B[38;5;241;43m.\u001B[39;49m\u001B[43mload\u001B[49m\u001B[43m(\u001B[49m\u001B[43m)\u001B[49m\n\u001B[1;32m   2158\u001B[0m \u001B[38;5;28;01mif\u001B[39;00m box \u001B[38;5;129;01mis\u001B[39;00m \u001B[38;5;28;01mNone\u001B[39;00m:\n\u001B[1;32m   2159\u001B[0m     box \u001B[38;5;241m=\u001B[39m (\u001B[38;5;241m0\u001B[39m, \u001B[38;5;241m0\u001B[39m) \u001B[38;5;241m+\u001B[39m \u001B[38;5;28mself\u001B[39m\u001B[38;5;241m.\u001B[39msize\n",
      "File \u001B[0;32m~/anaconda3/lib/python3.11/site-packages/PIL/ImageFile.py:269\u001B[0m, in \u001B[0;36mImageFile.load\u001B[0;34m(self)\u001B[0m\n\u001B[1;32m    266\u001B[0m         \u001B[38;5;28;01mraise\u001B[39;00m \u001B[38;5;167;01mOSError\u001B[39;00m(msg)\n\u001B[1;32m    268\u001B[0m b \u001B[38;5;241m=\u001B[39m b \u001B[38;5;241m+\u001B[39m s\n\u001B[0;32m--> 269\u001B[0m n, err_code \u001B[38;5;241m=\u001B[39m \u001B[43mdecoder\u001B[49m\u001B[38;5;241;43m.\u001B[39;49m\u001B[43mdecode\u001B[49m\u001B[43m(\u001B[49m\u001B[43mb\u001B[49m\u001B[43m)\u001B[49m\n\u001B[1;32m    270\u001B[0m \u001B[38;5;28;01mif\u001B[39;00m n \u001B[38;5;241m<\u001B[39m \u001B[38;5;241m0\u001B[39m:\n\u001B[1;32m    271\u001B[0m     \u001B[38;5;28;01mbreak\u001B[39;00m\n",
      "\u001B[0;31mKeyboardInterrupt\u001B[0m: "
     ]
    }
   ],
   "source": [
    "import matplotlib.pyplot as plt\n",
    "\n",
    "# 获取生成器的一批数据\n",
    "batch_x, batch_y = next(train_generator)\n",
    "\n",
    "# 选择要显示的图像数量\n",
    "num_images_to_show = 5\n",
    "\n",
    "plt.figure(figsize=(15, 15))\n",
    "for i in range(num_images_to_show):\n",
    "    plt.subplot(1, num_images_to_show, i + 1)\n",
    "    plt.imshow(batch_x[i] * 255)  # rescale back to [0-255] range\n",
    "    plt.title(f'Label: {batch_y[i]}')\n",
    "    plt.axis('off')\n",
    "plt.show()\n"
   ],
   "metadata": {
    "collapsed": false,
    "ExecuteTime": {
     "end_time": "2023-12-14T23:07:16.199568Z",
     "start_time": "2023-12-14T23:07:12.118853Z"
    }
   },
   "id": "4f68227fb4bf9bd8"
  },
  {
   "cell_type": "code",
   "execution_count": 9,
   "outputs": [],
   "source": [],
   "metadata": {
    "collapsed": false,
    "ExecuteTime": {
     "end_time": "2023-12-14T23:01:14.957424Z",
     "start_time": "2023-12-14T23:01:14.950872Z"
    }
   },
   "id": "151dbe8c464bad6f"
  },
  {
   "cell_type": "code",
   "execution_count": null,
   "outputs": [],
   "source": [],
   "metadata": {
    "collapsed": false
   },
   "id": "f7dfb9fc13b0d4ba"
  }
 ],
 "metadata": {
  "kernelspec": {
   "display_name": "Python 3",
   "language": "python",
   "name": "python3"
  },
  "language_info": {
   "codemirror_mode": {
    "name": "ipython",
    "version": 2
   },
   "file_extension": ".py",
   "mimetype": "text/x-python",
   "name": "python",
   "nbconvert_exporter": "python",
   "pygments_lexer": "ipython2",
   "version": "2.7.6"
  }
 },
 "nbformat": 4,
 "nbformat_minor": 5
}

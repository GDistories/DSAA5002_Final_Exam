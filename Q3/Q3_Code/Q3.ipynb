{
 "cells": [
  {
   "cell_type": "markdown",
   "source": [
    "# Q3 - Short Video Classification"
   ],
   "metadata": {
    "collapsed": false
   },
   "id": "172277a3373b716f"
  },
  {
   "cell_type": "markdown",
   "source": [
    "## 1.Import the necessary libraries "
   ],
   "metadata": {
    "collapsed": false
   },
   "id": "a5d06d07d5b1901f"
  },
  {
   "cell_type": "code",
   "execution_count": 30,
   "outputs": [],
   "source": [
    "import subprocess\n",
    "import os\n",
    "import time\n",
    "import matplotlib.pyplot as plt\n",
    "from tqdm import tqdm\n",
    "import numpy as np\n",
    "import cv2\n",
    "import pandas as pd\n",
    "from sklearn.model_selection import train_test_split\n",
    "from tensorflow.keras.utils import to_categorical\n",
    "from tensorflow.keras.models import Sequential\n",
    "from tensorflow.keras.layers import Conv3D, MaxPooling3D, Flatten, Dense, Dropout"
   ],
   "metadata": {
    "collapsed": false,
    "ExecuteTime": {
     "end_time": "2023-12-15T04:34:17.855548Z",
     "start_time": "2023-12-15T04:34:17.851150Z"
    }
   },
   "id": "a4b8ab771b89a5d3"
  },
  {
   "cell_type": "markdown",
   "source": [
    "## 2. Use FFmpeg to extract key frames from videos, 1 frame per second"
   ],
   "metadata": {
    "collapsed": false
   },
   "id": "8607e9509ca31266"
  },
  {
   "cell_type": "code",
   "execution_count": 11,
   "id": "initial_id",
   "metadata": {
    "collapsed": true,
    "ExecuteTime": {
     "end_time": "2023-12-14T23:37:49.867825Z",
     "start_time": "2023-12-14T23:37:49.864227Z"
    }
   },
   "outputs": [],
   "source": [
    "def extract_key_frames_ffmpeg(video_path, output_base_folder, frame_rate=1):\n",
    "    \"\"\"Extract key frames from a video using FFmpeg and save them to folders named after the video.\n",
    "\n",
    "    Args:\n",
    "        video_path (str): Path to the video file.\n",
    "        output_base_folder (str): Base path to store all key frame folders.\n",
    "        frame_rate (int, optional): The frequency of extracting key frames. Default is one frame per second.\n",
    "    \"\"\"\n",
    "    video_name = os.path.basename(video_path).split('.')[0]\n",
    "    output_folder = os.path.join(output_base_folder, video_name)\n",
    "    \n",
    "    # Create a folder for the video if it doesn't exist\n",
    "    if not os.path.exists(output_folder):\n",
    "        os.makedirs(output_folder)\n",
    "\n",
    "    output_filename = os.path.join(output_folder, \"frame_%d.jpg\")\n",
    "    cmd = f\"./ffmpeg -i {video_path} -vf fps={frame_rate} {output_filename}\"\n",
    "    \n",
    "    # Run FFmpeg command to extract key frames\n",
    "    subprocess.run(cmd, shell=True, stdout=subprocess.DEVNULL, stderr=subprocess.DEVNULL)\n",
    "\n",
    "\n",
    "def process_videos_with_ffmpeg(folder_path, output_folder, frame_rate=1):\n",
    "    \"\"\"Process all videos in a folder using FFmpeg and display a progress bar.\n",
    "\n",
    "    Args:\n",
    "        folder_path (str): Path to the folder containing video files.\n",
    "        output_folder (str): Path to the folder to store key frames.\n",
    "        frame_rate (int, optional): The frequency of extracting key frames. Default is one frame per second.\n",
    "    \"\"\"\n",
    "    videos = [os.path.join(folder_path, f) for f in os.listdir(folder_path) if f.endswith('.mp4')]\n",
    "\n",
    "    with tqdm(total=len(videos), desc=\"Processing Videos\") as pbar:\n",
    "        for video in videos:\n",
    "            extract_key_frames_ffmpeg(video, output_folder, frame_rate)\n",
    "            pbar.update(1)"
   ]
  },
  {
   "cell_type": "code",
   "execution_count": 12,
   "outputs": [
    {
     "name": "stderr",
     "output_type": "stream",
     "text": [
      "Processing Videos: 100%|██████████| 2063/2063 [03:44<00:00,  9.21it/s]\n",
      "Processing Videos: 100%|██████████| 562/562 [01:01<00:00,  9.12it/s]\n"
     ]
    }
   ],
   "source": [
    "# Paths to training and testing video folders\n",
    "train_videos_path = '../Data_Q3/train_video'\n",
    "test_videos_path = '../Data_Q3/test_video'\n",
    "\n",
    "# Output folders for storing key frames\n",
    "output_folder_train = '../Processed_Data_Q3/train_key_frames'\n",
    "output_folder_test = '../Processed_Data_Q3/test_key_frames'\n",
    "\n",
    "# Process training videos and save key frames\n",
    "process_videos_with_ffmpeg(train_videos_path, output_folder_train)\n",
    "\n",
    "# Process testing videos and save key frames\n",
    "process_videos_with_ffmpeg(test_videos_path, output_folder_test)\n"
   ],
   "metadata": {
    "collapsed": false,
    "ExecuteTime": {
     "end_time": "2023-12-14T23:42:36.372080Z",
     "start_time": "2023-12-14T23:37:50.702141Z"
    }
   },
   "id": "e649f1e5e571d114"
  },
  {
   "cell_type": "markdown",
   "source": [
    "## 3. Data Loading and Preprocessing"
   ],
   "metadata": {
    "collapsed": false
   },
   "id": "a978190fa2e8bf06"
  },
  {
   "cell_type": "code",
   "execution_count": 31,
   "outputs": [],
   "source": [
    "# Function to load labels from a tag file\n",
    "def load_labels(tag_file_path):\n",
    "    # Read the tag file into a DataFrame with columns 'video' and 'label'\n",
    "    labels_df = pd.read_csv(tag_file_path, header=None, names=['video', 'label'])\n",
    "    \n",
    "    # Remove file extensions from the 'video' column\n",
    "    labels_df['video'] = labels_df['video'].apply(lambda x: x.split('.')[0])\n",
    "    \n",
    "    return labels_df\n",
    "\n",
    "# Function to load video frames\n",
    "def load_video_frames(video_folder_path, labels_df=None, frame_size=(64, 64), max_frames=20, load_labels=True):\n",
    "    X, y = [], []\n",
    "    \n",
    "    for folder in os.listdir(video_folder_path):\n",
    "        folder_path = os.path.join(video_folder_path, folder)\n",
    "        \n",
    "        if not os.path.isdir(folder_path):\n",
    "            continue\n",
    "\n",
    "        frames = []\n",
    "        for frame_file in sorted(os.listdir(folder_path))[:max_frames]:\n",
    "            frame_path = os.path.join(folder_path, frame_file)\n",
    "            img = cv2.imread(frame_path)\n",
    "            img = cv2.resize(img, frame_size)\n",
    "            frames.append(img)\n",
    "\n",
    "        while len(frames) < max_frames:\n",
    "            frames.append(np.zeros_like(frames[0]))  # Ensure all videos have the same number of frames\n",
    "\n",
    "        X.append(frames)\n",
    "\n",
    "        if load_labels and labels_df is not None:\n",
    "            label = labels_df[labels_df['video'] == folder]['label'].values\n",
    "            if len(label) > 0:\n",
    "                y.append(label[0])\n",
    "            else:\n",
    "                y.append(-1)  # Use a placeholder for videos with no found labels\n",
    "\n",
    "    X = np.array(X).astype('float32') / 255.0  # Normalize pixel values\n",
    "    if load_labels:\n",
    "        y = to_categorical(y)  # One-hot encode labels\n",
    "        return X, y\n",
    "    else:\n",
    "        return X\n",
    "\n",
    "# Specify the paths\n",
    "tag_file_path = '../Data_Q3/tarin_tag.txt'  # Change to your tag.txt file path\n",
    "train_key_frames_path = '../Processed_Data_Q3/train_key_frames'  # Change to your train_key_frames folder path\n",
    "\n",
    "# Load labels from the tag file\n",
    "labels_df = load_labels(tag_file_path)\n",
    "\n",
    "# Load video frames along with labels\n",
    "X, y = load_video_frames(train_key_frames_path, labels_df)"
   ],
   "metadata": {
    "collapsed": false,
    "ExecuteTime": {
     "end_time": "2023-12-15T04:34:49.268669Z",
     "start_time": "2023-12-15T04:34:23.799825Z"
    }
   },
   "id": "31f3c05027bdc4cf"
  },
  {
   "cell_type": "markdown",
   "source": [
    "## 4. Model Building"
   ],
   "metadata": {
    "collapsed": false
   },
   "id": "cbef5f4ca2ef6cde"
  },
  {
   "cell_type": "code",
   "execution_count": 32,
   "outputs": [],
   "source": [
    "# Function to build a 3D convolutional neural network model\n",
    "def build_model(num_classes):\n",
    "    model = Sequential()\n",
    "    model.add(Conv3D(32, kernel_size=(3, 3, 3), activation='relu', input_shape=(20, 64, 64, 3)))\n",
    "    model.add(MaxPooling3D(pool_size=(2, 2, 2)))\n",
    "    model.add(Conv3D(64, kernel_size=(3, 3, 3), activation='relu'))\n",
    "    model.add(MaxPooling3D(pool_size=(2, 2, 2)))\n",
    "    model.add(Flatten())\n",
    "    model.add(Dense(128, activation='relu'))\n",
    "    model.add(Dropout(0.5))\n",
    "    model.add(Dense(num_classes, activation='softmax'))\n",
    "    return model\n",
    "\n",
    "# Define the number of classes based on the shape of the labels\n",
    "num_classes = y.shape[1]\n",
    "\n",
    "# Build the model\n",
    "model = build_model(num_classes)\n",
    "\n",
    "# Compile the model with categorical cross-entropy loss and the Adam optimizer\n",
    "model.compile(loss='categorical_crossentropy', optimizer='adam', metrics=['accuracy'])"
   ],
   "metadata": {
    "collapsed": false,
    "ExecuteTime": {
     "end_time": "2023-12-15T04:34:49.307350Z",
     "start_time": "2023-12-15T04:34:49.273248Z"
    }
   },
   "id": "5029dfdc7081d"
  },
  {
   "cell_type": "markdown",
   "source": [
    "## 5. Model Training"
   ],
   "metadata": {
    "collapsed": false
   },
   "id": "4bf92c0a28f7aae1"
  },
  {
   "cell_type": "code",
   "execution_count": 33,
   "outputs": [
    {
     "name": "stdout",
     "output_type": "stream",
     "text": [
      "Epoch 1/50\n",
      "52/52 [==============================] - 108s 2s/step - loss: 2.4784 - accuracy: 0.2515 - val_loss: 2.0637 - val_accuracy: 0.3366\n",
      "Epoch 2/50\n",
      "52/52 [==============================] - 104s 2s/step - loss: 2.0431 - accuracy: 0.3467 - val_loss: 1.8439 - val_accuracy: 0.4068\n",
      "Epoch 3/50\n",
      "52/52 [==============================] - 106s 2s/step - loss: 1.8518 - accuracy: 0.3945 - val_loss: 1.6965 - val_accuracy: 0.4649\n",
      "Epoch 4/50\n",
      "52/52 [==============================] - 106s 2s/step - loss: 1.6475 - accuracy: 0.4721 - val_loss: 1.5118 - val_accuracy: 0.4939\n",
      "Epoch 5/50\n",
      "52/52 [==============================] - 105s 2s/step - loss: 1.4971 - accuracy: 0.5303 - val_loss: 1.4980 - val_accuracy: 0.4843\n",
      "Epoch 6/50\n",
      "52/52 [==============================] - 107s 2s/step - loss: 1.3260 - accuracy: 0.5679 - val_loss: 1.4393 - val_accuracy: 0.5278\n",
      "Epoch 7/50\n",
      "52/52 [==============================] - 109s 2s/step - loss: 1.1253 - accuracy: 0.6352 - val_loss: 1.5639 - val_accuracy: 0.5036\n",
      "Epoch 8/50\n",
      "52/52 [==============================] - 108s 2s/step - loss: 1.0054 - accuracy: 0.6848 - val_loss: 1.3212 - val_accuracy: 0.5835\n",
      "Epoch 9/50\n",
      "52/52 [==============================] - 114s 2s/step - loss: 0.8170 - accuracy: 0.7248 - val_loss: 1.4483 - val_accuracy: 0.5884\n",
      "Epoch 10/50\n",
      "52/52 [==============================] - 114s 2s/step - loss: 0.7196 - accuracy: 0.7673 - val_loss: 1.2886 - val_accuracy: 0.6150\n",
      "Epoch 11/50\n",
      "52/52 [==============================] - 114s 2s/step - loss: 0.5965 - accuracy: 0.8061 - val_loss: 1.3977 - val_accuracy: 0.6513\n",
      "Epoch 12/50\n",
      "52/52 [==============================] - 120s 2s/step - loss: 0.5197 - accuracy: 0.8358 - val_loss: 1.8209 - val_accuracy: 0.5714\n",
      "Epoch 13/50\n",
      "52/52 [==============================] - 119s 2s/step - loss: 0.6138 - accuracy: 0.7970 - val_loss: 1.4019 - val_accuracy: 0.6174\n",
      "Epoch 14/50\n",
      "52/52 [==============================] - 118s 2s/step - loss: 0.4549 - accuracy: 0.8558 - val_loss: 1.4396 - val_accuracy: 0.6150\n",
      "Epoch 15/50\n",
      "52/52 [==============================] - 126s 2s/step - loss: 0.4333 - accuracy: 0.8624 - val_loss: 1.6723 - val_accuracy: 0.5521\n",
      "Epoch 16/50\n",
      "52/52 [==============================] - 131s 3s/step - loss: 0.4202 - accuracy: 0.8630 - val_loss: 1.7439 - val_accuracy: 0.6126\n",
      "Epoch 17/50\n",
      "52/52 [==============================] - 130s 2s/step - loss: 0.2941 - accuracy: 0.9055 - val_loss: 1.5350 - val_accuracy: 0.6295\n",
      "Epoch 18/50\n",
      "52/52 [==============================] - 126s 2s/step - loss: 0.2829 - accuracy: 0.9067 - val_loss: 1.6333 - val_accuracy: 0.6271\n",
      "Epoch 19/50\n",
      "52/52 [==============================] - 122s 2s/step - loss: 0.3161 - accuracy: 0.8945 - val_loss: 1.5669 - val_accuracy: 0.6199\n",
      "Epoch 20/50\n",
      "52/52 [==============================] - 120s 2s/step - loss: 0.2155 - accuracy: 0.9315 - val_loss: 1.8300 - val_accuracy: 0.6223\n",
      "Epoch 21/50\n",
      "52/52 [==============================] - 121s 2s/step - loss: 0.1813 - accuracy: 0.9442 - val_loss: 1.7325 - val_accuracy: 0.6586\n",
      "Epoch 22/50\n",
      "52/52 [==============================] - 116s 2s/step - loss: 0.1933 - accuracy: 0.9370 - val_loss: 1.7844 - val_accuracy: 0.6053\n",
      "Epoch 23/50\n",
      "52/52 [==============================] - 117s 2s/step - loss: 0.2189 - accuracy: 0.9261 - val_loss: 1.8516 - val_accuracy: 0.6223\n",
      "Epoch 24/50\n",
      "52/52 [==============================] - 127s 2s/step - loss: 0.1889 - accuracy: 0.9382 - val_loss: 1.8284 - val_accuracy: 0.6223\n",
      "Epoch 25/50\n",
      "52/52 [==============================] - 125s 2s/step - loss: 0.1344 - accuracy: 0.9552 - val_loss: 2.1006 - val_accuracy: 0.6174\n",
      "Epoch 26/50\n",
      "52/52 [==============================] - 127s 2s/step - loss: 0.1598 - accuracy: 0.9430 - val_loss: 2.1864 - val_accuracy: 0.6053\n",
      "Epoch 27/50\n",
      "52/52 [==============================] - 127s 2s/step - loss: 0.2114 - accuracy: 0.9358 - val_loss: 1.9189 - val_accuracy: 0.6174\n",
      "Epoch 28/50\n",
      "52/52 [==============================] - 124s 2s/step - loss: 0.1534 - accuracy: 0.9448 - val_loss: 2.0320 - val_accuracy: 0.6150\n",
      "Epoch 29/50\n",
      "52/52 [==============================] - 129s 2s/step - loss: 0.1395 - accuracy: 0.9503 - val_loss: 2.0071 - val_accuracy: 0.6271\n",
      "Epoch 30/50\n",
      "52/52 [==============================] - 129s 2s/step - loss: 0.1391 - accuracy: 0.9570 - val_loss: 1.9198 - val_accuracy: 0.6416\n",
      "Epoch 31/50\n",
      "52/52 [==============================] - 126s 2s/step - loss: 0.1160 - accuracy: 0.9642 - val_loss: 1.9534 - val_accuracy: 0.6489\n",
      "Epoch 32/50\n",
      "52/52 [==============================] - 127s 2s/step - loss: 0.1727 - accuracy: 0.9467 - val_loss: 1.9836 - val_accuracy: 0.5956\n",
      "Epoch 33/50\n",
      "52/52 [==============================] - 126s 2s/step - loss: 0.1484 - accuracy: 0.9515 - val_loss: 2.1982 - val_accuracy: 0.6126\n",
      "Epoch 34/50\n",
      "52/52 [==============================] - 125s 2s/step - loss: 0.1470 - accuracy: 0.9527 - val_loss: 2.1807 - val_accuracy: 0.6174\n",
      "Epoch 35/50\n",
      "52/52 [==============================] - 125s 2s/step - loss: 0.1577 - accuracy: 0.9521 - val_loss: 2.1157 - val_accuracy: 0.6126\n",
      "Epoch 36/50\n",
      "52/52 [==============================] - 124s 2s/step - loss: 0.1282 - accuracy: 0.9594 - val_loss: 2.0762 - val_accuracy: 0.6077\n",
      "Epoch 37/50\n",
      "52/52 [==============================] - 123s 2s/step - loss: 0.1175 - accuracy: 0.9594 - val_loss: 2.3412 - val_accuracy: 0.6174\n",
      "Epoch 38/50\n",
      "52/52 [==============================] - 130s 3s/step - loss: 0.0960 - accuracy: 0.9709 - val_loss: 2.2488 - val_accuracy: 0.6368\n",
      "Epoch 39/50\n",
      "52/52 [==============================] - 122s 2s/step - loss: 0.1096 - accuracy: 0.9648 - val_loss: 2.1545 - val_accuracy: 0.6295\n",
      "Epoch 40/50\n",
      "52/52 [==============================] - 125s 2s/step - loss: 0.1110 - accuracy: 0.9630 - val_loss: 2.1733 - val_accuracy: 0.6441\n",
      "Epoch 41/50\n",
      "52/52 [==============================] - 129s 2s/step - loss: 0.0773 - accuracy: 0.9764 - val_loss: 2.3794 - val_accuracy: 0.6344\n",
      "Epoch 42/50\n",
      "52/52 [==============================] - 126s 2s/step - loss: 0.0710 - accuracy: 0.9794 - val_loss: 2.3971 - val_accuracy: 0.6416\n",
      "Epoch 43/50\n",
      "52/52 [==============================] - 123s 2s/step - loss: 0.0835 - accuracy: 0.9721 - val_loss: 2.4311 - val_accuracy: 0.6029\n",
      "Epoch 44/50\n",
      "52/52 [==============================] - 125s 2s/step - loss: 0.0976 - accuracy: 0.9679 - val_loss: 2.2220 - val_accuracy: 0.6295\n",
      "Epoch 45/50\n",
      "52/52 [==============================] - 126s 2s/step - loss: 0.0928 - accuracy: 0.9739 - val_loss: 2.6440 - val_accuracy: 0.6174\n",
      "Epoch 46/50\n",
      "52/52 [==============================] - 123s 2s/step - loss: 0.0627 - accuracy: 0.9782 - val_loss: 2.5402 - val_accuracy: 0.6247\n",
      "Epoch 47/50\n",
      "52/52 [==============================] - 124s 2s/step - loss: 0.0842 - accuracy: 0.9715 - val_loss: 2.4480 - val_accuracy: 0.6416\n",
      "Epoch 48/50\n",
      "52/52 [==============================] - 124s 2s/step - loss: 0.0670 - accuracy: 0.9752 - val_loss: 2.8698 - val_accuracy: 0.6247\n",
      "Epoch 49/50\n",
      "52/52 [==============================] - 125s 2s/step - loss: 0.0847 - accuracy: 0.9733 - val_loss: 2.4683 - val_accuracy: 0.6199\n",
      "Epoch 50/50\n",
      "52/52 [==============================] - 126s 2s/step - loss: 0.0614 - accuracy: 0.9818 - val_loss: 2.6585 - val_accuracy: 0.6223\n"
     ]
    }
   ],
   "source": [
    "# Split the dataset into training and testing sets\n",
    "X_train, X_test, y_train, y_test = train_test_split(X, y, test_size=0.2, random_state=50015940)\n",
    "\n",
    "# Fit the model to the training data and validate it on the testing data\n",
    "history = model.fit(X_train, y_train, batch_size=32, epochs=50, validation_data=(X_test, y_test))"
   ],
   "metadata": {
    "collapsed": false,
    "ExecuteTime": {
     "end_time": "2023-12-15T06:15:39.163641Z",
     "start_time": "2023-12-15T04:34:49.306415Z"
    }
   },
   "id": "12a95d49816b6b47"
  },
  {
   "cell_type": "markdown",
   "source": [
    "## 6. Model Evaluation"
   ],
   "metadata": {
    "collapsed": false
   },
   "id": "a311e99d715ee7d7"
  },
  {
   "cell_type": "code",
   "execution_count": 34,
   "outputs": [
    {
     "name": "stdout",
     "output_type": "stream",
     "text": [
      "13/13 [==============================] - 2s 187ms/step - loss: 2.6585 - accuracy: 0.6223\n",
      "Test loss: 2.6585400104522705 / Test accuracy: 0.6222760081291199\n"
     ]
    }
   ],
   "source": [
    "# Evaluate the trained model on the testing data\n",
    "score = model.evaluate(X_test, y_test)\n",
    "\n",
    "# Print the test loss and test accuracy\n",
    "print(f'Test loss: {score[0]} / Test accuracy: {score[1]}')\n"
   ],
   "metadata": {
    "collapsed": false,
    "ExecuteTime": {
     "end_time": "2023-12-15T06:15:41.894423Z",
     "start_time": "2023-12-15T06:15:39.151799Z"
    }
   },
   "id": "bba49c35563ccfd"
  },
  {
   "cell_type": "code",
   "execution_count": 35,
   "outputs": [
    {
     "data": {
      "text/plain": "<Figure size 1200x500 with 2 Axes>",
      "image/png": "[encoded data removed]"
     },
     "metadata": {},
     "output_type": "display_data"
    }
   ],
   "source": [
    "import matplotlib.pyplot as plt\n",
    "\n",
    "# Create a figure with two subplots\n",
    "plt.figure(figsize=(12, 5))\n",
    "\n",
    "# Subplot for training and validation accuracy\n",
    "plt.subplot(1, 2, 1)\n",
    "plt.plot(history.history['accuracy'], label='Training Accuracy')\n",
    "plt.plot(history.history['val_accuracy'], label='Validation Accuracy')\n",
    "plt.title('Model Accuracy')\n",
    "plt.xlabel('Epoch')\n",
    "plt.ylabel('Accuracy')\n",
    "plt.legend()\n",
    "\n",
    "# Subplot for training and validation loss\n",
    "plt.subplot(1, 2, 2)\n",
    "plt.plot(history.history['loss'], label='Training Loss')\n",
    "plt.plot(history.history['val_loss'], label='Validation Loss')\n",
    "plt.title('Model Loss')\n",
    "plt.xlabel('Epoch')\n",
    "plt.ylabel('Loss')\n",
    "plt.legend()\n",
    "\n",
    "# Adjust subplot layout for better visualization\n",
    "plt.tight_layout()\n",
    "\n",
    "# Show the plot\n",
    "plt.show()\n"
   ],
   "metadata": {
    "collapsed": false,
    "ExecuteTime": {
     "end_time": "2023-12-15T06:15:42.002273Z",
     "start_time": "2023-12-15T06:15:41.849204Z"
    }
   },
   "id": "5ef825dfc1d858a1"
  },
  {
   "cell_type": "markdown",
   "source": [
    "## 7. Model Prediction"
   ],
   "metadata": {
    "collapsed": false
   },
   "id": "2b1fec543a93f982"
  },
  {
   "cell_type": "code",
   "execution_count": 36,
   "outputs": [],
   "source": [
    "test_key_frames_path = '../Processed_Data_Q3/test_key_frames' \n",
    "\n",
    "# Load test data using the same function as for training data, but without labels\n",
    "X_test = load_video_frames(test_key_frames_path, load_labels=False)\n"
   ],
   "metadata": {
    "collapsed": false,
    "ExecuteTime": {
     "end_time": "2023-12-15T06:15:49.357888Z",
     "start_time": "2023-12-15T06:15:42.002089Z"
    }
   },
   "id": "b6aabf28698f7147"
  },
  {
   "cell_type": "code",
   "execution_count": 37,
   "outputs": [
    {
     "name": "stdout",
     "output_type": "stream",
     "text": [
      "18/18 [==============================] - 3s 190ms/step\n"
     ]
    }
   ],
   "source": [
    "# Use the trained model to make predictions on the test data\n",
    "predictions = model.predict(X_test)\n",
    "\n",
    "# Get the predicted labels by finding the index of the maximum probability in each prediction\n",
    "predicted_labels = np.argmax(predictions, axis=1)\n"
   ],
   "metadata": {
    "collapsed": false,
    "ExecuteTime": {
     "end_time": "2023-12-15T06:15:52.957377Z",
     "start_time": "2023-12-15T06:15:49.358189Z"
    }
   },
   "id": "881adb64b8c4631a"
  },
  {
   "cell_type": "code",
   "execution_count": 38,
   "outputs": [
    {
     "data": {
      "text/plain": "                 file_name  label\n0            602356487.mp4      9\n1            838716540.mp4      5\n2      897974621_70_80.mp4      2\n3            879516906.mp4      3\n4    748491221_220_230.mp4      7\n..                     ...    ...\n557          543121627.mp4      9\n558          872048877.mp4      3\n559          501034834.mp4     12\n560          837886335.mp4     10\n561          862063858.mp4      9\n\n[562 rows x 2 columns]",
      "text/html": "<div>\n<style scoped>\n    .dataframe tbody tr th:only-of-type {\n        vertical-align: middle;\n    }\n\n    .dataframe tbody tr th {\n        vertical-align: top;\n    }\n\n    .dataframe thead th {\n        text-align: right;\n    }\n</style>\n<table border=\"1\" class=\"dataframe\">\n  <thead>\n    <tr style=\"text-align: right;\">\n      <th></th>\n      <th>file_name</th>\n      <th>label</th>\n    </tr>\n  </thead>\n  <tbody>\n    <tr>\n      <th>0</th>\n      <td>602356487.mp4</td>\n      <td>9</td>\n    </tr>\n    <tr>\n      <th>1</th>\n      <td>838716540.mp4</td>\n      <td>5</td>\n    </tr>\n    <tr>\n      <th>2</th>\n      <td>897974621_70_80.mp4</td>\n      <td>2</td>\n    </tr>\n    <tr>\n      <th>3</th>\n      <td>879516906.mp4</td>\n      <td>3</td>\n    </tr>\n    <tr>\n      <th>4</th>\n      <td>748491221_220_230.mp4</td>\n      <td>7</td>\n    </tr>\n    <tr>\n      <th>...</th>\n      <td>...</td>\n      <td>...</td>\n    </tr>\n    <tr>\n      <th>557</th>\n      <td>543121627.mp4</td>\n      <td>9</td>\n    </tr>\n    <tr>\n      <th>558</th>\n      <td>872048877.mp4</td>\n      <td>3</td>\n    </tr>\n    <tr>\n      <th>559</th>\n      <td>501034834.mp4</td>\n      <td>12</td>\n    </tr>\n    <tr>\n      <th>560</th>\n      <td>837886335.mp4</td>\n      <td>10</td>\n    </tr>\n    <tr>\n      <th>561</th>\n      <td>862063858.mp4</td>\n      <td>9</td>\n    </tr>\n  </tbody>\n</table>\n<p>562 rows × 2 columns</p>\n</div>"
     },
     "execution_count": 38,
     "metadata": {},
     "output_type": "execute_result"
    }
   ],
   "source": [
    "# Get the names of test videos by listing directories in the test key frames path\n",
    "test_video_names = [folder for folder in os.listdir(test_key_frames_path) if os.path.isdir(os.path.join(test_key_frames_path, folder))]\n",
    "\n",
    "# Create a DataFrame containing file names and predicted labels\n",
    "results_df = pd.DataFrame({\n",
    "    'file_name': [name + '.mp4' for name in test_video_names],  # Add '.mp4' extension to file names\n",
    "    'label': predicted_labels\n",
    "})\n",
    "\n",
    "# Display the DataFrame\n",
    "results_df\n"
   ],
   "metadata": {
    "collapsed": false,
    "ExecuteTime": {
     "end_time": "2023-12-15T06:15:52.958661Z",
     "start_time": "2023-12-15T06:15:52.924821Z"
    }
   },
   "id": "9fb69dc58ee8e0ca"
  },
  {
   "cell_type": "code",
   "execution_count": 39,
   "outputs": [],
   "source": [
    "# Save the DataFrame to a CSV file\n",
    "results_df.to_csv('../Q3_output.csv', index=False)"
   ],
   "metadata": {
    "collapsed": false,
    "ExecuteTime": {
     "end_time": "2023-12-15T06:15:52.958840Z",
     "start_time": "2023-12-15T06:15:52.932867Z"
    }
   },
   "id": "11814d803f64f08e"
  },
  {
   "cell_type": "markdown",
   "source": [],
   "metadata": {
    "collapsed": false
   },
   "id": "2eec9cfc32c03f7d"
  }
 ],
 "metadata": {
  "kernelspec": {
   "display_name": "Python 3",
   "language": "python",
   "name": "python3"
  },
  "language_info": {
   "codemirror_mode": {
    "name": "ipython",
    "version": 2
   },
   "file_extension": ".py",
   "mimetype": "text/x-python",
   "name": "python",
   "nbconvert_exporter": "python",
   "pygments_lexer": "ipython2",
   "version": "2.7.6"
  }
 },
 "nbformat": 4,
 "nbformat_minor": 5
}

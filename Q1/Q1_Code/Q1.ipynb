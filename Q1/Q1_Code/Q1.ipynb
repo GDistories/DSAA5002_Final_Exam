{
 "cells": [
  {
   "cell_type": "markdown",
   "source": [
    "# Q1 - Supervised Outlier Detection"
   ],
   "metadata": {
    "collapsed": false
   },
   "id": "438d0e1477e4eafb"
  },
  {
   "cell_type": "markdown",
   "source": [
    "## 1. Import Libraries"
   ],
   "metadata": {
    "collapsed": false
   },
   "id": "6cde0486dc7f794b"
  },
  {
   "cell_type": "code",
   "execution_count": 9,
   "outputs": [],
   "source": [
    "import pandas as pd\n",
    "import os\n",
    "from sklearn.preprocessing import StandardScaler\n",
    "from sklearn.ensemble import RandomForestClassifier\n",
    "from sklearn.metrics import classification_report\n",
    "from imblearn.over_sampling import SMOTE\n",
    "import lightgbm as lgb"
   ],
   "metadata": {
    "collapsed": false,
    "ExecuteTime": {
     "end_time": "2023-12-15T12:06:52.129661Z",
     "start_time": "2023-12-15T12:06:51.913933Z"
    }
   },
   "id": "b07693520c33227d"
  },
  {
   "cell_type": "markdown",
   "source": [
    "## 2. Read Data"
   ],
   "metadata": {
    "collapsed": false
   },
   "id": "8146f75ae65dbcf"
  },
  {
   "cell_type": "code",
   "execution_count": 10,
   "id": "initial_id",
   "metadata": {
    "collapsed": true,
    "ExecuteTime": {
     "end_time": "2023-12-15T12:06:52.651812Z",
     "start_time": "2023-12-15T12:06:52.571952Z"
    }
   },
   "outputs": [
    {
     "name": "stdout",
     "output_type": "stream",
     "text": [
      "Successfully read train file:  data_0.csv\n",
      "Successfully read train file:  data_1.csv\n",
      "Successfully read train file:  data_2.csv\n",
      "Successfully read train file:  data_3.csv\n",
      "Successfully read train file:  data_4.csv\n",
      "Successfully read train file:  data_5.csv\n",
      "Successfully read train file:  data_6.csv\n",
      "Successfully read train file:  data_7.csv\n",
      "Successfully read train file:  data_8.csv\n",
      "Successfully read train file:  data_9.csv\n",
      "Successfully read train file:  data_10.csv\n",
      "Successfully read train file:  data_11.csv\n",
      "Successfully read train file:  data_12.csv\n",
      "Successfully read train file:  data_13.csv\n",
      "Successfully read train file:  data_14.csv\n",
      "Successfully read train file:  data_15.csv\n",
      "Successfully read train file:  data_16.csv\n",
      "Successfully read train file:  data_17.csv\n",
      "Successfully read train file:  data_18.csv\n",
      "Successfully read train file:  data_19.csv\n"
     ]
    }
   ],
   "source": [
    "train_df = pd.DataFrame()\n",
    "folder_path = '../Data_Q1/train'\n",
    "\n",
    "for i in range(20):  \n",
    "    file_name = f'data_{i}.csv'\n",
    "    file_path = os.path.join(folder_path, file_name)\n",
    "\n",
    "    # 读取CSV文件并合并到all_data\n",
    "    data = pd.read_csv(file_path)\n",
    "    train_df = pd.concat([train_df, data])\n",
    "    print('Successfully read train file: ', file_name)\n",
    "\n",
    "test_df = pd.read_csv('../Data_Q1/test/test_set.csv')"
   ]
  },
  {
   "cell_type": "code",
   "execution_count": 11,
   "outputs": [
    {
     "name": "stdout",
     "output_type": "stream",
     "text": [
      "(134229, 8)\n"
     ]
    },
    {
     "data": {
      "text/plain": "           x          y          z  a  b  c  d  Is_Falling\n0  18.495860  13.766527  14.362624  0  0  0  1           0\n1  18.501072  13.827225  14.270268  0  0  1  0           0\n2  18.405950  13.868976  14.094804  1  0  0  0           0\n3  18.444572  13.910701  14.116078  0  1  0  0           0\n4  18.418470  13.933917  14.320566  0  0  0  1           0",
      "text/html": "<div>\n<style scoped>\n    .dataframe tbody tr th:only-of-type {\n        vertical-align: middle;\n    }\n\n    .dataframe tbody tr th {\n        vertical-align: top;\n    }\n\n    .dataframe thead th {\n        text-align: right;\n    }\n</style>\n<table border=\"1\" class=\"dataframe\">\n  <thead>\n    <tr style=\"text-align: right;\">\n      <th></th>\n      <th>x</th>\n      <th>y</th>\n      <th>z</th>\n      <th>a</th>\n      <th>b</th>\n      <th>c</th>\n      <th>d</th>\n      <th>Is_Falling</th>\n    </tr>\n  </thead>\n  <tbody>\n    <tr>\n      <th>0</th>\n      <td>18.495860</td>\n      <td>13.766527</td>\n      <td>14.362624</td>\n      <td>0</td>\n      <td>0</td>\n      <td>0</td>\n      <td>1</td>\n      <td>0</td>\n    </tr>\n    <tr>\n      <th>1</th>\n      <td>18.501072</td>\n      <td>13.827225</td>\n      <td>14.270268</td>\n      <td>0</td>\n      <td>0</td>\n      <td>1</td>\n      <td>0</td>\n      <td>0</td>\n    </tr>\n    <tr>\n      <th>2</th>\n      <td>18.405950</td>\n      <td>13.868976</td>\n      <td>14.094804</td>\n      <td>1</td>\n      <td>0</td>\n      <td>0</td>\n      <td>0</td>\n      <td>0</td>\n    </tr>\n    <tr>\n      <th>3</th>\n      <td>18.444572</td>\n      <td>13.910701</td>\n      <td>14.116078</td>\n      <td>0</td>\n      <td>1</td>\n      <td>0</td>\n      <td>0</td>\n      <td>0</td>\n    </tr>\n    <tr>\n      <th>4</th>\n      <td>18.418470</td>\n      <td>13.933917</td>\n      <td>14.320566</td>\n      <td>0</td>\n      <td>0</td>\n      <td>0</td>\n      <td>1</td>\n      <td>0</td>\n    </tr>\n  </tbody>\n</table>\n</div>"
     },
     "execution_count": 11,
     "metadata": {},
     "output_type": "execute_result"
    }
   ],
   "source": [
    "print(train_df.shape)\n",
    "train_df.head()"
   ],
   "metadata": {
    "collapsed": false,
    "ExecuteTime": {
     "end_time": "2023-12-15T12:06:53.395986Z",
     "start_time": "2023-12-15T12:06:53.391606Z"
    }
   },
   "id": "c948eb8212ae43ce"
  },
  {
   "cell_type": "code",
   "execution_count": 12,
   "outputs": [
    {
     "name": "stdout",
     "output_type": "stream",
     "text": [
      "(6623, 9)\n"
     ]
    },
    {
     "data": {
      "text/plain": "   ID         x          y          z  a  b  c  d  Is_Falling\n0   1  6.912997  11.518698  15.471855  0  0  0  1           0\n1   2  6.936432  11.574586  15.446939  0  0  1  0           0\n2   3  6.935274  11.571790  15.437505  1  0  0  0           0\n3   4  6.886688  11.561593  15.704019  0  0  0  1           0\n4   5  6.921823  11.597728  15.634435  0  0  1  0           0",
      "text/html": "<div>\n<style scoped>\n    .dataframe tbody tr th:only-of-type {\n        vertical-align: middle;\n    }\n\n    .dataframe tbody tr th {\n        vertical-align: top;\n    }\n\n    .dataframe thead th {\n        text-align: right;\n    }\n</style>\n<table border=\"1\" class=\"dataframe\">\n  <thead>\n    <tr style=\"text-align: right;\">\n      <th></th>\n      <th>ID</th>\n      <th>x</th>\n      <th>y</th>\n      <th>z</th>\n      <th>a</th>\n      <th>b</th>\n      <th>c</th>\n      <th>d</th>\n      <th>Is_Falling</th>\n    </tr>\n  </thead>\n  <tbody>\n    <tr>\n      <th>0</th>\n      <td>1</td>\n      <td>6.912997</td>\n      <td>11.518698</td>\n      <td>15.471855</td>\n      <td>0</td>\n      <td>0</td>\n      <td>0</td>\n      <td>1</td>\n      <td>0</td>\n    </tr>\n    <tr>\n      <th>1</th>\n      <td>2</td>\n      <td>6.936432</td>\n      <td>11.574586</td>\n      <td>15.446939</td>\n      <td>0</td>\n      <td>0</td>\n      <td>1</td>\n      <td>0</td>\n      <td>0</td>\n    </tr>\n    <tr>\n      <th>2</th>\n      <td>3</td>\n      <td>6.935274</td>\n      <td>11.571790</td>\n      <td>15.437505</td>\n      <td>1</td>\n      <td>0</td>\n      <td>0</td>\n      <td>0</td>\n      <td>0</td>\n    </tr>\n    <tr>\n      <th>3</th>\n      <td>4</td>\n      <td>6.886688</td>\n      <td>11.561593</td>\n      <td>15.704019</td>\n      <td>0</td>\n      <td>0</td>\n      <td>0</td>\n      <td>1</td>\n      <td>0</td>\n    </tr>\n    <tr>\n      <th>4</th>\n      <td>5</td>\n      <td>6.921823</td>\n      <td>11.597728</td>\n      <td>15.634435</td>\n      <td>0</td>\n      <td>0</td>\n      <td>1</td>\n      <td>0</td>\n      <td>0</td>\n    </tr>\n  </tbody>\n</table>\n</div>"
     },
     "execution_count": 12,
     "metadata": {},
     "output_type": "execute_result"
    }
   ],
   "source": [
    "print(test_df.shape)\n",
    "test_df.head()"
   ],
   "metadata": {
    "collapsed": false,
    "ExecuteTime": {
     "end_time": "2023-12-15T12:06:53.828536Z",
     "start_time": "2023-12-15T12:06:53.825536Z"
    }
   },
   "id": "695ddad5307d3ca6"
  },
  {
   "cell_type": "markdown",
   "source": [
    "## 3. Data Preprocessing"
   ],
   "metadata": {
    "collapsed": false
   },
   "id": "f1c8e4ff79596ac2"
  },
  {
   "cell_type": "code",
   "execution_count": 13,
   "outputs": [],
   "source": [
    "# Dropping the target variable 'Is_Falling' to separate features (X) from the target (y)\n",
    "X_train = train_df.drop('Is_Falling', axis=1)  \n",
    "y_train = train_df['Is_Falling'] \n",
    "\n",
    "# Standardizing the features: it's a common practice to scale features \n",
    "# so that all of them can be uniformly evaluated\n",
    "scaler = StandardScaler()\n",
    "X_train_scaled = scaler.fit_transform(X_train)  \n",
    "\n",
    "# Using SMOTE (Synthetic Minority Over-sampling Technique) for handling class imbalance\n",
    "# This helps to generate synthetic samples for the minority class to balance the dataset\n",
    "smote = SMOTE()\n",
    "X_sm, y_sm = smote.fit_resample(X_train_scaled, y_train)  \n",
    "\n",
    "# Preparing the test data\n",
    "# Dropping the 'ID' and 'Is_Falling' columns as we need to predict 'Is_Falling' and 'ID' is not a feature\n",
    "X_test = test_df.drop(['ID', 'Is_Falling'], axis=1)\n",
    "y_test = test_df['Is_Falling'] \n",
    "\n",
    "# Scaling the test data with the same scaler used for the training data\n",
    "X_test_scaled = scaler.transform(X_test) "
   ],
   "metadata": {
    "collapsed": false,
    "ExecuteTime": {
     "end_time": "2023-12-15T11:57:00.654624Z",
     "start_time": "2023-12-15T11:57:00.604193Z"
    }
   },
   "id": "6485bc347e976f89"
  },
  {
   "cell_type": "markdown",
   "source": [
    "## 4. Model Training and Evaluation"
   ],
   "metadata": {
    "collapsed": false
   },
   "id": "3cd4a03a4ad188da"
  },
  {
   "cell_type": "markdown",
   "source": [
    "### 4.1 Random Forest Classifier"
   ],
   "metadata": {
    "collapsed": false
   },
   "id": "36868459ebd7943a"
  },
  {
   "cell_type": "code",
   "execution_count": 14,
   "outputs": [
    {
     "name": "stdout",
     "output_type": "stream",
     "text": [
      "Random Forest Classifier Evaluation\n",
      "              precision    recall  f1-score   support\n",
      "\n",
      "           0       0.96      0.96      0.96      6280\n",
      "           1       0.25      0.26      0.25       343\n",
      "\n",
      "    accuracy                           0.92      6623\n",
      "   macro avg       0.61      0.61      0.61      6623\n",
      "weighted avg       0.92      0.92      0.92      6623\n"
     ]
    }
   ],
   "source": [
    "# Train Random Forest Classifier\n",
    "rf_model = RandomForestClassifier()\n",
    "rf_model.fit(X_sm, y_sm)\n",
    "\n",
    "# Predict and evaluate for Random Forest Classifier\n",
    "rf_predictions = rf_model.predict(X_test_scaled)\n",
    "print(\"Random Forest Classifier Evaluation\")\n",
    "print(classification_report(y_test, rf_predictions))"
   ],
   "metadata": {
    "collapsed": false
   },
   "id": "f30affc11bd7865d"
  },
  {
   "cell_type": "markdown",
   "source": [
    "### 4.2 LightGBM Classifier"
   ],
   "metadata": {
    "collapsed": false
   },
   "id": "7e66a09cb0e05534"
  },
  {
   "cell_type": "code",
   "execution_count": 16,
   "outputs": [
    {
     "name": "stdout",
     "output_type": "stream",
     "text": [
      "[LightGBM] [Info] Number of positive: 127656, number of negative: 127656\n",
      "[LightGBM] [Info] Auto-choosing row-wise multi-threading, the overhead of testing was 0.006337 seconds.\n",
      "You can set `force_row_wise=true` to remove the overhead.\n",
      "And if memory is not enough, you can set `force_col_wise=true`.\n",
      "[LightGBM] [Info] Total Bins 777\n",
      "[LightGBM] [Info] Number of data points in the train set: 255312, number of used features: 7\n",
      "[LightGBM] [Info] [binary:BoostFromScore]: pavg=0.500000 -> initscore=0.000000\n",
      "LightGBM Classifier Evaluation\n",
      "              precision    recall  f1-score   support\n",
      "\n",
      "           0       0.97      0.91      0.94      6280\n",
      "           1       0.25      0.52      0.33       343\n",
      "\n",
      "    accuracy                           0.89      6623\n",
      "   macro avg       0.61      0.72      0.64      6623\n",
      "weighted avg       0.93      0.89      0.91      6623\n"
     ]
    }
   ],
   "source": [
    "# Train LightGBM Classifier\n",
    "lgbm_model = lgb.LGBMClassifier()\n",
    "lgbm_model.fit(X_sm, y_sm)\n",
    "\n",
    "# Predict and evaluate for LightGBM Classifier\n",
    "lgbm_predictions = lgbm_model.predict(X_test_scaled)\n",
    "print(\"LightGBM Classifier Evaluation\")\n",
    "print(classification_report(y_test, lgbm_predictions))"
   ],
   "metadata": {
    "collapsed": false
   },
   "id": "518b4d4f28147d2f"
  },
  {
   "cell_type": "markdown",
   "source": [
    "## 5. Output"
   ],
   "metadata": {
    "collapsed": false
   },
   "id": "e87c04e45e390e53"
  },
  {
   "cell_type": "markdown",
   "source": [
    "Since Higher Recall for the Minority Class: LightGBM showed a recall rate of 0.52 for the falling class, which is more than double that of the RandomForest's recall rate of 0.26. In applications where detecting every possible incident is critical, such as fall detection in cats, a higher recall rate is immensely valuable. This means LightGBM is more effective in identifying true falling events.\n",
    "\n",
    "So, I will use LightGBM to predict the test data."
   ],
   "metadata": {
    "collapsed": false
   },
   "id": "5359b97853bc507"
  },
  {
   "cell_type": "code",
   "execution_count": 1,
   "outputs": [],
   "source": [
    "# Output the predictions to a CSV file\n",
    "output_df = pd.DataFrame({'ID': test_df['ID'], 'Is_Falling': lgbm_predictions})\n",
    "output_df.to_csv('../Q1_output.csv', index=False)"
   ],
   "metadata": {
    "collapsed": false,
    "ExecuteTime": {
     "end_time": "2023-12-15T12:36:21.583620Z",
     "start_time": "2023-12-15T12:36:21.580748Z"
    }
   },
   "id": "dbd588e8a780e51d"
  },
  {
   "cell_type": "code",
   "execution_count": null,
   "outputs": [],
   "source": [],
   "metadata": {
    "collapsed": false,
    "pycharm": {
     "name": "#%%\n"
    }
   },
   "id": "adccdb99e275c512"
  }
 ],
 "metadata": {
  "kernelspec": {
   "display_name": "Python 3",
   "language": "python",
   "name": "python3"
  },
  "language_info": {
   "codemirror_mode": {
    "name": "ipython",
    "version": 2
   },
   "file_extension": ".py",
   "mimetype": "text/x-python",
   "name": "python",
   "nbconvert_exporter": "python",
   "pygments_lexer": "ipython2",
   "version": "2.7.6"
  }
 },
 "nbformat": 4,
 "nbformat_minor": 5
}

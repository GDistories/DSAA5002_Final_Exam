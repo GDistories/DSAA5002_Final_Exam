{
 "cells": [
  {
   "cell_type": "code",
   "execution_count": 1,
   "outputs": [],
   "source": [
    "import pandas as pd\n",
    "import os\n",
    "from sklearn.preprocessing import StandardScaler\n",
    "from sklearn.ensemble import RandomForestClassifier\n",
    "from sklearn.metrics import classification_report\n",
    "from imblearn.over_sampling import SMOTE\n",
    "import lightgbm as lgb"
   ],
   "metadata": {
    "collapsed": false,
    "ExecuteTime": {
     "end_time": "2023-12-15T12:06:52.129661Z",
     "start_time": "2023-12-15T12:06:51.913933Z"
    }
   },
   "id": "b07693520c33227d"
  },
  {
   "cell_type": "code",
   "execution_count": 2,
   "id": "initial_id",
   "metadata": {
    "collapsed": true,
    "ExecuteTime": {
     "end_time": "2023-12-15T12:06:52.651812Z",
     "start_time": "2023-12-15T12:06:52.571952Z"
    }
   },
   "outputs": [
    {
     "name": "stdout",
     "output_type": "stream",
     "text": [
      "Successfully read train file:  data_0.csv\n",
      "Successfully read train file:  data_1.csv\n",
      "Successfully read train file:  data_2.csv\n",
      "Successfully read train file:  data_3.csv\n",
      "Successfully read train file:  data_4.csv\n",
      "Successfully read train file:  data_5.csv\n",
      "Successfully read train file:  data_6.csv\n",
      "Successfully read train file:  data_7.csv\n",
      "Successfully read train file:  data_8.csv\n",
      "Successfully read train file:  data_9.csv\n",
      "Successfully read train file:  data_10.csv\n",
      "Successfully read train file:  data_11.csv\n",
      "Successfully read train file:  data_12.csv\n",
      "Successfully read train file:  data_13.csv\n",
      "Successfully read train file:  data_14.csv\n",
      "Successfully read train file:  data_15.csv\n",
      "Successfully read train file:  data_16.csv\n",
      "Successfully read train file:  data_17.csv\n",
      "Successfully read train file:  data_18.csv\n",
      "Successfully read train file:  data_19.csv\n"
     ]
    }
   ],
   "source": [
    "train_df = pd.DataFrame()\n",
    "folder_path = '../Data_Q1/train'\n",
    "\n",
    "for i in range(20):  \n",
    "    file_name = f'data_{i}.csv'\n",
    "    file_path = os.path.join(folder_path, file_name)\n",
    "\n",
    "    # 读取CSV文件并合并到all_data\n",
    "    data = pd.read_csv(file_path)\n",
    "    train_df = pd.concat([train_df, data])\n",
    "    print('Successfully read train file: ', file_name)\n",
    "\n",
    "test_df = pd.read_csv('../Data_Q1/test/test_set.csv')"
   ]
  },
  {
   "cell_type": "code",
   "execution_count": 3,
   "outputs": [
    {
     "name": "stdout",
     "output_type": "stream",
     "text": [
      "(134229, 8)\n"
     ]
    },
    {
     "data": {
      "text/plain": "           x          y          z  a  b  c  d  Is_Falling\n0  18.495860  13.766527  14.362624  0  0  0  1           0\n1  18.501072  13.827225  14.270268  0  0  1  0           0\n2  18.405950  13.868976  14.094804  1  0  0  0           0\n3  18.444572  13.910701  14.116078  0  1  0  0           0\n4  18.418470  13.933917  14.320566  0  0  0  1           0",
      "text/html": "<div>\n<style scoped>\n    .dataframe tbody tr th:only-of-type {\n        vertical-align: middle;\n    }\n\n    .dataframe tbody tr th {\n        vertical-align: top;\n    }\n\n    .dataframe thead th {\n        text-align: right;\n    }\n</style>\n<table border=\"1\" class=\"dataframe\">\n  <thead>\n    <tr style=\"text-align: right;\">\n      <th></th>\n      <th>x</th>\n      <th>y</th>\n      <th>z</th>\n      <th>a</th>\n      <th>b</th>\n      <th>c</th>\n      <th>d</th>\n      <th>Is_Falling</th>\n    </tr>\n  </thead>\n  <tbody>\n    <tr>\n      <th>0</th>\n      <td>18.495860</td>\n      <td>13.766527</td>\n      <td>14.362624</td>\n      <td>0</td>\n      <td>0</td>\n      <td>0</td>\n      <td>1</td>\n      <td>0</td>\n    </tr>\n    <tr>\n      <th>1</th>\n      <td>18.501072</td>\n      <td>13.827225</td>\n      <td>14.270268</td>\n      <td>0</td>\n      <td>0</td>\n      <td>1</td>\n      <td>0</td>\n      <td>0</td>\n    </tr>\n    <tr>\n      <th>2</th>\n      <td>18.405950</td>\n      <td>13.868976</td>\n      <td>14.094804</td>\n      <td>1</td>\n      <td>0</td>\n      <td>0</td>\n      <td>0</td>\n      <td>0</td>\n    </tr>\n    <tr>\n      <th>3</th>\n      <td>18.444572</td>\n      <td>13.910701</td>\n      <td>14.116078</td>\n      <td>0</td>\n      <td>1</td>\n      <td>0</td>\n      <td>0</td>\n      <td>0</td>\n    </tr>\n    <tr>\n      <th>4</th>\n      <td>18.418470</td>\n      <td>13.933917</td>\n      <td>14.320566</td>\n      <td>0</td>\n      <td>0</td>\n      <td>0</td>\n      <td>1</td>\n      <td>0</td>\n    </tr>\n  </tbody>\n</table>\n</div>"
     },
     "execution_count": 3,
     "metadata": {},
     "output_type": "execute_result"
    }
   ],
   "source": [
    "print(train_df.shape)\n",
    "train_df.head()"
   ],
   "metadata": {
    "collapsed": false,
    "ExecuteTime": {
     "end_time": "2023-12-15T12:06:53.395986Z",
     "start_time": "2023-12-15T12:06:53.391606Z"
    }
   },
   "id": "c948eb8212ae43ce"
  },
  {
   "cell_type": "code",
   "execution_count": 4,
   "outputs": [
    {
     "name": "stdout",
     "output_type": "stream",
     "text": [
      "(6623, 9)\n"
     ]
    },
    {
     "data": {
      "text/plain": "   ID         x          y          z  a  b  c  d  Is_Falling\n0   1  6.912997  11.518698  15.471855  0  0  0  1           0\n1   2  6.936432  11.574586  15.446939  0  0  1  0           0\n2   3  6.935274  11.571790  15.437505  1  0  0  0           0\n3   4  6.886688  11.561593  15.704019  0  0  0  1           0\n4   5  6.921823  11.597728  15.634435  0  0  1  0           0",
      "text/html": "<div>\n<style scoped>\n    .dataframe tbody tr th:only-of-type {\n        vertical-align: middle;\n    }\n\n    .dataframe tbody tr th {\n        vertical-align: top;\n    }\n\n    .dataframe thead th {\n        text-align: right;\n    }\n</style>\n<table border=\"1\" class=\"dataframe\">\n  <thead>\n    <tr style=\"text-align: right;\">\n      <th></th>\n      <th>ID</th>\n      <th>x</th>\n      <th>y</th>\n      <th>z</th>\n      <th>a</th>\n      <th>b</th>\n      <th>c</th>\n      <th>d</th>\n      <th>Is_Falling</th>\n    </tr>\n  </thead>\n  <tbody>\n    <tr>\n      <th>0</th>\n      <td>1</td>\n      <td>6.912997</td>\n      <td>11.518698</td>\n      <td>15.471855</td>\n      <td>0</td>\n      <td>0</td>\n      <td>0</td>\n      <td>1</td>\n      <td>0</td>\n    </tr>\n    <tr>\n      <th>1</th>\n      <td>2</td>\n      <td>6.936432</td>\n      <td>11.574586</td>\n      <td>15.446939</td>\n      <td>0</td>\n      <td>0</td>\n      <td>1</td>\n      <td>0</td>\n      <td>0</td>\n    </tr>\n    <tr>\n      <th>2</th>\n      <td>3</td>\n      <td>6.935274</td>\n      <td>11.571790</td>\n      <td>15.437505</td>\n      <td>1</td>\n      <td>0</td>\n      <td>0</td>\n      <td>0</td>\n      <td>0</td>\n    </tr>\n    <tr>\n      <th>3</th>\n      <td>4</td>\n      <td>6.886688</td>\n      <td>11.561593</td>\n      <td>15.704019</td>\n      <td>0</td>\n      <td>0</td>\n      <td>0</td>\n      <td>1</td>\n      <td>0</td>\n    </tr>\n    <tr>\n      <th>4</th>\n      <td>5</td>\n      <td>6.921823</td>\n      <td>11.597728</td>\n      <td>15.634435</td>\n      <td>0</td>\n      <td>0</td>\n      <td>1</td>\n      <td>0</td>\n      <td>0</td>\n    </tr>\n  </tbody>\n</table>\n</div>"
     },
     "execution_count": 4,
     "metadata": {},
     "output_type": "execute_result"
    }
   ],
   "source": [
    "print(test_df.shape)\n",
    "test_df.head()"
   ],
   "metadata": {
    "collapsed": false,
    "ExecuteTime": {
     "end_time": "2023-12-15T12:06:53.828536Z",
     "start_time": "2023-12-15T12:06:53.825536Z"
    }
   },
   "id": "695ddad5307d3ca6"
  },
  {
   "cell_type": "code",
   "execution_count": 5,
   "outputs": [],
   "source": [
    "# 预处理\n",
    "X_train = train_df.drop('Is_Falling', axis=1)\n",
    "y_train = train_df['Is_Falling']\n",
    "scaler = StandardScaler()\n",
    "X_train_scaled = scaler.fit_transform(X_train)\n",
    "\n",
    "# 处理数据不平衡\n",
    "smote = SMOTE()\n",
    "X_sm, y_sm = smote.fit_resample(X_train_scaled, y_train)\n",
    "\n",
    "# 准备测试数据\n",
    "X_test = test_df.drop(['ID', 'Is_Falling'], axis=1)\n",
    "y_test = test_df['Is_Falling']\n",
    "X_test_scaled = scaler.transform(X_test)"
   ],
   "metadata": {
    "collapsed": false,
    "ExecuteTime": {
     "end_time": "2023-12-15T11:57:00.654624Z",
     "start_time": "2023-12-15T11:57:00.604193Z"
    }
   },
   "id": "6485bc347e976f89"
  },
  {
   "cell_type": "code",
   "execution_count": null,
   "outputs": [],
   "source": [
    "# 训练 RandomForestClassifier\n",
    "rf_model = RandomForestClassifier()\n",
    "rf_model.fit(X_sm, y_sm)\n",
    "\n",
    "# 预测与评估\n",
    "rf_predictions = rf_model.predict(X_test_scaled)\n",
    "print(\"Random Forest Classifier Evaluation\")\n",
    "print(classification_report(y_test, rf_predictions))"
   ],
   "metadata": {
    "collapsed": false
   },
   "id": "f30affc11bd7865d"
  },
  {
   "cell_type": "code",
   "execution_count": null,
   "outputs": [],
   "source": [
    "# 训练 LightGBM Classifier\n",
    "lgbm_model = lgb.LGBMClassifier()\n",
    "lgbm_model.fit(X_sm, y_sm)\n",
    "\n",
    "# 预测与评估\n",
    "lgbm_predictions = lgbm_model.predict(X_test_scaled)\n",
    "print(\"LightGBM Classifier Evaluation\")\n",
    "print(classification_report(y_test, lgbm_predictions))\n"
   ],
   "metadata": {
    "collapsed": false
   },
   "id": "518b4d4f28147d2f"
  },
  {
   "cell_type": "code",
   "execution_count": 8,
   "outputs": [],
   "source": [
    "# 创建输出 DataFrame\n",
    "# 此时需要排除 'Is_Falling' 列，保留 'ID' 列\n",
    "output_df = pd.DataFrame({'ID': test_df['ID'], 'Is_Falling': lgbm_predictions})\n",
    "output_df.to_csv('../Q1_output.csv', index=False)"
   ],
   "metadata": {
    "collapsed": false,
    "ExecuteTime": {
     "end_time": "2023-12-15T11:57:58.636644Z",
     "start_time": "2023-12-15T11:57:58.626276Z"
    }
   },
   "id": "dbd588e8a780e51d"
  }
 ],
 "metadata": {
  "kernelspec": {
   "display_name": "Python 3",
   "language": "python",
   "name": "python3"
  },
  "language_info": {
   "codemirror_mode": {
    "name": "ipython",
    "version": 2
   },
   "file_extension": ".py",
   "mimetype": "text/x-python",
   "name": "python",
   "nbconvert_exporter": "python",
   "pygments_lexer": "ipython2",
   "version": "2.7.6"
  }
 },
 "nbformat": 4,
 "nbformat_minor": 5
}
